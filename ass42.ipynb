{
 "cells": [
  {
   "attachments": {},
   "cell_type": "markdown",
   "id": "9b8575a8",
   "metadata": {},
   "source": [
    "### Q1. Pearson correlation coefficient is a measure of the linear relationship between two variables. Suppose\n",
    "### you have collected data on the amount of time students spend studying for an exam and their final exam\n",
    "### scores. Calculate the Pearson correlation coefficient between these two variables and interpret the result.\n",
    "\n",
    "\n",
    "\n",
    "\n"
   ]
  },
  {
   "cell_type": "markdown",
   "id": "86fa2a84",
   "metadata": {},
   "source": [
    "The Pearson correlation coefficient, often denoted as \\(r\\), is a measure of the linear relationship between two variables. It ranges from -1 to 1, where:\n",
    "\n",
    "- \\(r = 1\\) indicates a perfect positive linear relationship,\n",
    "- \\(r = -1\\) indicates a perfect negative linear relationship, and\n",
    "- \\(r = 0\\) indicates no linear relationship.\n",
    "\n",
    "To calculate the Pearson correlation coefficient between the amount of time students spend studying for an exam and their final exam scores, you can use the following formula:\n",
    "\n",
    "\\[ r = \\frac{\\sum_{i=1}^{n} (X_i - \\bar{X})(Y_i - \\bar{Y})}{\\sqrt{\\sum_{i=1}^{n} (X_i - \\bar{X})^2 \\cdot \\sum_{i=1}^{n} (Y_i - \\bar{Y})^2}} \\]\n",
    "\n",
    "Where:\n",
    "- \\(X_i\\) and \\(Y_i\\) are individual data points.\n",
    "- \\(\\bar{X}\\) and \\(\\bar{Y}\\) are the means of the two variables.\n",
    "- \\(n\\) is the number of data points.\n",
    "\n",
    "Here's a simplified example using Python with pandas and NumPy:\n",
    "\n",
    "\n",
    "\n",
    "Interpretation of Result:\n",
    "- If the Pearson correlation coefficient (\\(r\\)) is close to 1, it indicates a strong positive linear relationship, suggesting that as the amount of time spent studying increases, the final exam scores tend to increase.\n",
    "- If \\(r\\) is close to -1, it indicates a strong negative linear relationship, suggesting that as the amount of time spent studying increases, the final exam scores tend to decrease.\n",
    "- If \\(r\\) is close to 0, it suggests a weak or no linear relationship between the two variables.\n",
    "\n",
    "The sign of the correlation coefficient (\\(r\\)) indicates the direction of the relationship (positive or negative), and the magnitude indicates the strength of the relationship."
   ]
  },
  {
   "cell_type": "code",
   "execution_count": 1,
   "id": "48da5d32",
   "metadata": {},
   "outputs": [
    {
     "name": "stdout",
     "output_type": "stream",
     "text": [
      "Pearson Correlation Coefficient: 0.916117368659589\n"
     ]
    }
   ],
   "source": [
    "\n",
    "import pandas as pd\n",
    "import numpy as np\n",
    "\n",
    "# Sample data\n",
    "data = pd.DataFrame({\n",
    "    'Study Time (hours)': [10, 15, 8, 12, 14],\n",
    "    'Exam Scores': [85, 90, 75, 88, 92]\n",
    "})\n",
    "\n",
    "# Calculate the Pearson correlation coefficient\n",
    "correlation_coefficient = np.corrcoef(data['Study Time (hours)'], data['Exam Scores'])[0, 1]\n",
    "\n",
    "# Display the correlation coefficient\n",
    "print(f\"Pearson Correlation Coefficient: {correlation_coefficient}\")\n"
   ]
  },
  {
   "cell_type": "markdown",
   "id": "418b7074",
   "metadata": {},
   "source": [
    "### Q2. Spearman's rank correlation is a measure of the monotonic relationship between two variables.\n",
    "### Suppose you have collected data on the amount of sleep individuals get each night and their overall job\n",
    "### satisfaction level on a scale of 1 to 10. Calculate the Spearman's rank correlation between these two\n",
    "### variables and interpret the result."
   ]
  },
  {
   "cell_type": "code",
   "execution_count": 2,
   "id": "8c647139",
   "metadata": {},
   "outputs": [
    {
     "name": "stdout",
     "output_type": "stream",
     "text": [
      "Spearman's Rank Correlation Coefficient: 0.9746794344808963\n"
     ]
    }
   ],
   "source": [
    "import pandas as pd\n",
    "from scipy.stats import spearmanr\n",
    "\n",
    "# Sample data\n",
    "data = pd.DataFrame({\n",
    "    'Sleep Hours': [7, 5, 8, 6, 7],\n",
    "    'Job Satisfaction': [8, 4, 9, 6, 7]\n",
    "})\n",
    "\n",
    "# Calculate Spearman's rank correlation coefficient\n",
    "spearman_corr, _ = spearmanr(data['Sleep Hours'], data['Job Satisfaction'])\n",
    "\n",
    "# Display the correlation coefficient\n",
    "print(f\"Spearman's Rank Correlation Coefficient: {spearman_corr}\")\n"
   ]
  },
  {
   "cell_type": "markdown",
   "id": "0863b7ef",
   "metadata": {},
   "source": [
    "### Q3. Suppose you are conducting a study to examine the relationship between the number of hours of\n",
    "### exercise per week and body mass index (BMI) in a sample of adults. You collected data on both variables\n",
    "### for 50 participants. Calculate the Pearson correlation coefficient and the Spearman's rank correlation\n",
    "### between these two variables and compare the results."
   ]
  },
  {
   "cell_type": "code",
   "execution_count": 3,
   "id": "fbf87384",
   "metadata": {},
   "outputs": [
    {
     "name": "stdout",
     "output_type": "stream",
     "text": [
      "Pearson Correlation Coefficient: 0.955111668744694\n",
      "Spearman's Rank Correlation Coefficient: 0.9754112616123711\n"
     ]
    }
   ],
   "source": [
    "import pandas as pd\n",
    "from scipy.stats import pearsonr, spearmanr\n",
    "\n",
    "# Sample data\n",
    "data = pd.DataFrame({\n",
    "    'Hours of Exercise per Week': [3, 5, 2, 4, 6, 1, 3, 2, 5, 4, 6, 1, 3, 2, 4, 6, 1, 3, 2, 4, 6, 1, 3, 2, 4, 6, 1, 3, 2, 4, 6, 1, 3, 2, 4, 6, 1, 3, 2, 4, 6, 1, 3, 2, 4, 6, 1, 3, 2],\n",
    "    'BMI': [22, 25, 21, 24, 26, 20, 22, 21, 24, 23, 25, 19, 22, 21, 23, 26, 18, 22, 21, 23, 25, 17, 21, 20, 23, 25, 17, 21, 20, 23, 25, 17, 21, 20, 23, 25, 17, 21, 20, 23, 25, 17, 21, 20, 23, 25, 17, 21, 20]\n",
    "})\n",
    "\n",
    "# Calculate Pearson correlation coefficient\n",
    "pearson_corr, _ = pearsonr(data['Hours of Exercise per Week'], data['BMI'])\n",
    "\n",
    "# Calculate Spearman's rank correlation coefficient\n",
    "spearman_corr, _ = spearmanr(data['Hours of Exercise per Week'], data['BMI'])\n",
    "\n",
    "# Display the correlation coefficients\n",
    "print(f\"Pearson Correlation Coefficient: {pearson_corr}\")\n",
    "print(f\"Spearman's Rank Correlation Coefficient: {spearman_corr}\")\n"
   ]
  },
  {
   "cell_type": "markdown",
   "id": "8a2fbba5",
   "metadata": {},
   "source": [
    "Comparison of Results:\n",
    "\n",
    "If both \n",
    "�\n",
    "r and \n",
    "�\n",
    "ρ are close to 1, it indicates a strong positive linear relationship.\n",
    "If both \n",
    "�\n",
    "r and \n",
    "�\n",
    "ρ are close to -1, it indicates a strong negative linear relationship.\n",
    "If \n",
    "�\n",
    "r and \n",
    "�\n",
    "ρ differ, it suggests a nonlinear relationship or the presence of outliers. Spearman's rank correlation is less sensitive to outliers and can capture monotonic relationships better.\n",
    "Interpretation of Results:\n",
    "\n",
    "If both coefficients are close to 1, it suggests a strong positive linear or monotonic relationship, indicating that as the number of hours of exercise per week increases, BMI tends to increase.\n",
    "If both coefficients are close to -1, it suggests a strong negative linear or monotonic relationship, indicating that as the number of hours of exercise per week increases, BMI tends to decrease.\n",
    "If the coefficients are close to 0, it suggests a weak or no relationship between the two variables.\n",
    "Compare the magnitude and sign of both coefficients to understand the nature of the relationship between the number of hours of exercise per week and BMI in your sample."
   ]
  },
  {
   "cell_type": "markdown",
   "id": "d47f4574",
   "metadata": {},
   "source": [
    "### Q4. A researcher is interested in examining the relationship between the number of hours individuals\n",
    "### spend watching television per day and their level of physical activity. The researcher collected data on\n",
    "### both variables from a sample of 50 participants. Calculate the Pearson correlation coefficient between\n",
    "### these two variables."
   ]
  },
  {
   "cell_type": "code",
   "execution_count": 4,
   "id": "d8728249",
   "metadata": {},
   "outputs": [
    {
     "name": "stdout",
     "output_type": "stream",
     "text": [
      "Pearson Correlation Coefficient: 0.3212140564990487\n"
     ]
    }
   ],
   "source": [
    "import pandas as pd\n",
    "from scipy.stats import pearsonr\n",
    "\n",
    "# Sample data\n",
    "data = pd.DataFrame({\n",
    "    'Hours of TV per Day': [2, 3, 1, 4, 2, 5, 1, 3, 2, 4, 1, 5, 3, 2, 4, 1, 5, 3, 2, 4, 1, 5, 3, 2, 4, 1, 5, 3, 2, 4, 1, 5, 3, 2, 4, 1, 5, 3, 2, 4, 1, 5, 3, 2, 4, 1, 5, 3],\n",
    "    'Physical Activity Level': [3, 4, 2, 5, 3, 1, 2, 4, 3, 5, 2, 1, 4, 3, 5, 1, 2, 4, 3, 5, 1, 2, 4, 3, 5, 1, 2, 4, 3, 5, 1, 2, 4, 3, 5, 1, 2, 4, 3, 5, 1, 2, 4, 3, 5, 1, 2, 4]\n",
    "})\n",
    "\n",
    "# Calculate Pearson correlation coefficient\n",
    "pearson_corr, _ = pearsonr(data['Hours of TV per Day'], data['Physical Activity Level'])\n",
    "\n",
    "# Display the correlation coefficient\n",
    "print(f\"Pearson Correlation Coefficient: {pearson_corr}\")\n"
   ]
  },
  {
   "attachments": {
    "image.png": {
     "image/png": "[encoded data removed]"
    }
   },
   "cell_type": "markdown",
   "id": "7d62a883",
   "metadata": {},
   "source": [
    "### Q5. A survey was conducted to examine the relationship between age and preference for a particular\n",
    "### brand of soft drink. The survey results are shown below:\n",
    "    \n",
    "![image.png](attachment:image.png)"
   ]
  },
  {
   "cell_type": "code",
   "execution_count": 19,
   "id": "37443478",
   "metadata": {},
   "outputs": [
    {
     "name": "stdout",
     "output_type": "stream",
     "text": [
      "                                age  new soft drink preference\n",
      "age                        1.000000                   0.769175\n",
      "new soft drink preference  0.769175                   1.000000\n"
     ]
    }
   ],
   "source": [
    "data = {'age': [25,42,37,19,31,28],'soft drink preference':['Coke','Pepsi' ,'Mountain dew','Coke','Pepsi','Coke']}\n",
    "import pandas as pd\n",
    "df = pd.DataFrame(data)\n",
    "from sklearn.preprocessing import LabelEncoder\n",
    "lb =LabelEncoder()\n",
    "df['new soft drink preference']=lb.fit_transform(df['soft drink preference'])\n",
    "df = df.drop('soft drink preference',axis=1)\n",
    "corr = df.corr()\n",
    "print(corr)"
   ]
  },
  {
   "cell_type": "markdown",
   "id": "48e53e4a",
   "metadata": {},
   "source": [
    "### Q6. A company is interested in examining the relationship between the number of sales calls made per day\n",
    "### and the number of sales made per week. The company collected data on both variables from a sample of\n",
    "### 30 sales representatives. Calculate the Pearson correlation coefficient between these two variables."
   ]
  },
  {
   "cell_type": "code",
   "execution_count": 5,
   "id": "13e87e0f",
   "metadata": {},
   "outputs": [
    {
     "name": "stdout",
     "output_type": "stream",
     "text": [
      "Pearson Correlation Coefficient: 0.9823030790377343\n"
     ]
    }
   ],
   "source": [
    "import pandas as pd\n",
    "from scipy.stats import pearsonr\n",
    "\n",
    "# Sample data\n",
    "data = pd.DataFrame({\n",
    "    'Sales Calls per Day': [25, 30, 20, 35, 28, 40, 22, 32, 27, 38, 21, 36, 30, 39, 24, 33, 26, 37, 29, 31, 23, 34, 19, 37, 26, 29, 33, 31, 28, 35],\n",
    "    'Sales per Week': [150, 180, 120, 210, 170, 240, 130, 190, 160, 220, 140, 200, 180, 230, 140, 200, 150, 220, 160, 180, 140, 210, 120, 220, 150, 160, 200, 190, 180, 210]\n",
    "})\n",
    "\n",
    "# Calculate Pearson correlation coefficient\n",
    "pearson_corr, _ = pearsonr(data['Sales Calls per Day'], data['Sales per Week'])\n",
    "\n",
    "# Display the correlation coefficient\n",
    "print(f\"Pearson Correlation Coefficient: {pearson_corr}\")\n"
   ]
  },
  {
   "cell_type": "code",
   "execution_count": null,
   "id": "2b73492b",
   "metadata": {},
   "outputs": [],
   "source": []
  }
 ],
 "metadata": {
  "kernelspec": {
   "display_name": "Python 3 (ipykernel)",
   "language": "python",
   "name": "python3"
  },
  "language_info": {
   "codemirror_mode": {
    "name": "ipython",
    "version": 3
   },
   "file_extension": ".py",
   "mimetype": "text/x-python",
   "name": "python",
   "nbconvert_exporter": "python",
   "pygments_lexer": "ipython3",
   "version": "3.9.7"
  }
 },
 "nbformat": 4,
 "nbformat_minor": 5
}
