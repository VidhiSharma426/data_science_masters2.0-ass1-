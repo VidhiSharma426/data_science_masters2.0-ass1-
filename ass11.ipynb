{
 "cells": [
  {
   "cell_type": "markdown",
   "id": "004f6d8c",
   "metadata": {},
   "source": [
    "#### Q1. What is a database? Differentiate between SQL and NoSQL databases."
   ]
  },
  {
   "cell_type": "markdown",
   "id": "a68a1f7d",
   "metadata": {},
   "source": [
    "Database:\n",
    "A database is a structured collection of data that is organized and stored in a computer system. Databases can store various types of data, such as text, numbers, images, and multimedia. They are designed to efficiently manage, retrieve, and update large volumes of data. \n",
    "SQL Databases:\n",
    "SQL databases are relational databases. They are based on a predefined schema, where data is organized into tables with rows and columns. SQL databases are best suited for complex query-intensive operations and transactions"
   ]
  },
  {
   "cell_type": "markdown",
   "id": "8fa374c4",
   "metadata": {},
   "source": [
    "#### Q2. What is DDL? Explain why CREATE, DROP, ALTER, and TRUNCATE are used with an example."
   ]
  },
  {
   "cell_type": "markdown",
   "id": "b9d8a9c4",
   "metadata": {},
   "source": [
    "data definition language: \n",
    "Data Definition Language (DDL) is a subset of SQL (Structured Query Language) used to define and manage the structure of a database, including creating, altering, and deleting database objects such as tables, indexes, and views. DDL statements are used to specify the database schema and provide a way to create, modify, and remove database objects in a database management system (DBMS). \n"
   ]
  },
  {
   "cell_type": "code",
   "execution_count": null,
   "id": "783a17b4",
   "metadata": {},
   "outputs": [],
   "source": [
    "CREATE TABLE employees (\n",
    "    id INT PRIMARY KEY,\n",
    "    name VARCHAR(255),\n",
    "    age INT\n",
    ");\n",
    "ALTER TABLE employees\n",
    "ADD COLUMN salary DECIMAL(10, 2);\n",
    "DROP TABLE employees;\n",
    "TRUNCATE TABLE employees;\n"
   ]
  },
  {
   "cell_type": "markdown",
   "id": "9bba4b14",
   "metadata": {},
   "source": [
    "#### Q3. What is DML? Explain INSERT, UPDATE, and DELETE with an example."
   ]
  },
  {
   "cell_type": "markdown",
   "id": "587ff7ac",
   "metadata": {},
   "source": [
    "DML, or Data Manipulation Language, is a subset of SQL (Structured Query Language) used for managing data within a relational database management system (RDBMS). DML statements enable you to insert, update, retrieve, and delete data in a database. \n",
    "\n",
    "-- Insert a new record into the 'employees' table\n",
    "INSERT INTO employees (id, name, age, salary)\n",
    "VALUES (1, 'Alice', 30, 50000);\n",
    "\n",
    "-- Update the salary of the employee with id 1\n",
    "UPDATE employees\n",
    "SET salary = 55000\n",
    "WHERE id = 1;\n",
    "\n",
    "-- Delete the employee with id 1 from the 'employees' table\n",
    "DELETE FROM employees\n",
    "WHERE id = 1;\n"
   ]
  },
  {
   "cell_type": "markdown",
   "id": "6193a073",
   "metadata": {},
   "source": [
    "#### Q4. What is DQL? Explain SELECT with an example."
   ]
  },
  {
   "cell_type": "markdown",
   "id": "b1385416",
   "metadata": {},
   "source": [
    "DQL, or Data Query Language, is a subset of SQL (Structured Query Language) used to query and retrieve data from a database. The primary and most commonly used DQL statement is SELECT.\n",
    "\n",
    "SELECT name, salary\n",
    "FROM employees\n",
    "WHERE age > 25;\n"
   ]
  },
  {
   "cell_type": "markdown",
   "id": "3cd826ab",
   "metadata": {},
   "source": [
    "#### Q5. Explain Primary Key and Foreign Key."
   ]
  },
  {
   "cell_type": "markdown",
   "id": "8df34cb7",
   "metadata": {},
   "source": [
    "PRIMARY KEY:\n",
    "A primary key is a field or a combination of fields in a table that uniquely identifies each record in that table. It must contain unique values and cannot contain NULL values.\n",
    "CREATE TABLE students (\n",
    "    student_id INT PRIMARY KEY,\n",
    "    name VARCHAR(255),\n",
    "    age INT,\n",
    "    grade VARCHAR(2)\n",
    ");\n",
    "FOREIGN KEY:\n",
    "A foreign key is a field in a table that is used to establish a link between two tables. It creates a relationship between the data in two tables and ensures referential integrity. \n",
    "CREATE TABLE customers (\n",
    "    customer_id INT PRIMARY KEY,\n",
    "    name VARCHAR(255),\n",
    "    email VARCHAR(255)\n",
    ");\n",
    "\n",
    "CREATE TABLE orders (\n",
    "    order_id INT PRIMARY KEY,\n",
    "    product_name VARCHAR(255),\n",
    "    customer_id INT,\n",
    "    FOREIGN KEY (customer_id) REFERENCES customers(customer_id)\n",
    ");\n"
   ]
  },
  {
   "cell_type": "markdown",
   "id": "cbdfecb3",
   "metadata": {},
   "source": [
    "#### Q6. Write a python code to connect MySQL to python. Explain the cursor() and execute() method."
   ]
  },
  {
   "cell_type": "markdown",
   "id": "4c93bdc4",
   "metadata": {},
   "source": [
    "import mysql.connector\n",
    "try:\n",
    "    # Replace 'your_host', 'your_username', 'your_password', and 'your_database' with your MySQL credentials\n",
    "    connection = mysql.connector.connect(\n",
    "        host='your_host',\n",
    "        user='your_username',\n",
    "        password='your_password',\n",
    "        database='your_database'\n",
    "    )\n",
    "\n",
    "    if connection.is_connected():\n",
    "        print(\"Connected to MySQL database\")\n",
    "    cursor = connection.cursor()\n",
    "    cursor.execute(\"SELECT * FROM your_table\")\n",
    "    results = cursor.fetchall()\n",
    "    for row in results:\n",
    "        print(row)\n",
    "\n",
    "except mysql.connector.Error as err:\n",
    "    print(f\"Error: {err}\")\n",
    "\n",
    "finally:\n",
    "    # Closing the cursor and connection using the close() method\n",
    "    if 'connection' in locals() and connection.is_connected():\n",
    "        cursor.close()\n",
    "        connection.close()\n",
    "        print(\"MySQL connection is closed\")\n",
    "\n",
    "        \n",
    "The cursor() method is used to create a cursor object. A cursor in this context is a database cursor that points to a specific position within a set of query results. It allows you to execute SQL commands and fetch data.\n",
    "execute() Method:\n",
    "\n",
    "The execute() method is used to execute a MySQL query that you pass as an argument. In the example above, cursor.execute(\"SELECT * FROM your_table\") \n"
   ]
  },
  {
   "cell_type": "markdown",
   "id": "d1e99f07",
   "metadata": {},
   "source": [
    "#### Q7. Give the order of execution of SQL clauses in an SQL query."
   ]
  },
  {
   "cell_type": "markdown",
   "id": "7b17d329",
   "metadata": {},
   "source": [
    "from>where>group by>having>select>order by"
   ]
  }
 ],
 "metadata": {
  "kernelspec": {
   "display_name": "Python 3 (ipykernel)",
   "language": "python",
   "name": "python3"
  },
  "language_info": {
   "codemirror_mode": {
    "name": "ipython",
    "version": 3
   },
   "file_extension": ".py",
   "mimetype": "text/x-python",
   "name": "python",
   "nbconvert_exporter": "python",
   "pygments_lexer": "ipython3",
   "version": "3.9.7"
  }
 },
 "nbformat": 4,
 "nbformat_minor": 5
}
