{
 "cells": [
  {
   "cell_type": "markdown",
   "id": "b88e7b5c",
   "metadata": {},
   "source": [
    "Q1. Create one variable containing following type of data:\n",
    "(i) string\n",
    "(ii) list\n",
    "(iii) float\n",
    "(iv) tuple"
   ]
  },
  {
   "cell_type": "code",
   "execution_count": 1,
   "id": "cb220559",
   "metadata": {},
   "outputs": [],
   "source": [
    "var1 = 'pwskills'\n",
    "var2 = ['abc',20,60,7+8j,'def']\n",
    "var3 = 9.7876\n",
    "var4 = (7,8,9)"
   ]
  },
  {
   "cell_type": "markdown",
   "id": "9cc81650",
   "metadata": {},
   "source": [
    "Q2. Given are some following variables containing data:\n",
    "(i) var1 = ‘ ‘\n",
    "(ii) var2 = ‘[ DS , ML , Python]’\n",
    "(iii) var3 = [ ‘DS’ , ’ML’ , ‘Python’ ]\n",
    "(iv) var4 = 1.\n",
    "What will be the data type of the above given variable."
   ]
  },
  {
   "cell_type": "code",
   "execution_count": 2,
   "id": "568047b4",
   "metadata": {},
   "outputs": [
    {
     "data": {
      "text/plain": [
       "float"
      ]
     },
     "execution_count": 2,
     "metadata": {},
     "output_type": "execute_result"
    }
   ],
   "source": [
    "var1 = ''\n",
    "var2 = '[ DS , ML , Python]'\n",
    "var3 = [ 'DS' , 'ML' , 'Python' ]\n",
    "var4 = 1.\n",
    "type(var1)\n",
    "type(var2)\n",
    "type(var3)\n",
    "type(var4)"
   ]
  },
  {
   "cell_type": "markdown",
   "id": "4d5d6bb2",
   "metadata": {},
   "source": [
    "Q3. Explain the use of the following operators using an example:\n",
    "(i) /\n",
    "(ii) %\n",
    "(iii) //\n",
    "(iv) **"
   ]
  },
  {
   "cell_type": "code",
   "execution_count": 3,
   "id": "1b0612c6",
   "metadata": {},
   "outputs": [
    {
     "data": {
      "text/plain": [
       "2401"
      ]
     },
     "execution_count": 3,
     "metadata": {},
     "output_type": "execute_result"
    }
   ],
   "source": [
    "A = 7\n",
    "B = 4\n",
    "A/B\n",
    "A%B\n",
    "A//B\n",
    "A**B"
   ]
  },
  {
   "cell_type": "markdown",
   "id": "3c7f4f25",
   "metadata": {},
   "source": [
    "Q4. Create a list of length 10 of your choice containing multiple types of data. Using for loop print the\n",
    "element and its data type."
   ]
  },
  {
   "cell_type": "code",
   "execution_count": 10,
   "id": "15148e9d",
   "metadata": {},
   "outputs": [
    {
     "name": "stdout",
     "output_type": "stream",
     "text": [
      "The element is  23 and it data type is <class 'int'>\n",
      "The element is  34.4 and it data type is <class 'float'>\n",
      "The element is  n and it data type is <class 'str'>\n",
      "The element is  ludo and it data type is <class 'str'>\n",
      "The element is  (4+5j) and it data type is <class 'complex'>\n",
      "The element is  99 and it data type is <class 'int'>\n",
      "The element is  True and it data type is <class 'bool'>\n",
      "The element is  [45, 60, 90] and it data type is <class 'list'>\n",
      "The element is  None and it data type is <class 'NoneType'>\n",
      "The element is  ('ab', 'bd') and it data type is <class 'tuple'>\n"
     ]
    },
    {
     "data": {
      "text/plain": [
       "45"
      ]
     },
     "execution_count": 10,
     "metadata": {},
     "output_type": "execute_result"
    }
   ],
   "source": [
    "l = [23,34.4,'n','ludo',4+5j,99,True,[45,60,90],None,('ab','bd')]\n",
    "for i in l :\n",
    "    print(\"The element is \",i,\"and it data type is\",type(i))\n",
    "l[7][0]"
   ]
  },
  {
   "cell_type": "markdown",
   "id": "249a318e",
   "metadata": {},
   "source": [
    "Q5. Using a while loop, verify if the number A is purely divisible by number B and if so then how many\n",
    "times it can be divisible."
   ]
  },
  {
   "cell_type": "code",
   "execution_count": 5,
   "id": "55560020",
   "metadata": {},
   "outputs": [
    {
     "name": "stdout",
     "output_type": "stream",
     "text": [
      "1\n"
     ]
    }
   ],
   "source": [
    "A=42\n",
    "B=2\n",
    "i = 0\n",
    "while A%B==0:\n",
    "    A=A//B\n",
    "    i=i+1\n",
    "print(i)"
   ]
  },
  {
   "cell_type": "markdown",
   "id": "a9911dc6",
   "metadata": {},
   "source": [
    "Q6. Create a list containing 25 int type data. Using for loop and if-else condition print if the element is\n",
    "divisible by 3 or not."
   ]
  },
  {
   "cell_type": "code",
   "execution_count": 6,
   "id": "0ca29f05",
   "metadata": {},
   "outputs": [
    {
     "name": "stdout",
     "output_type": "stream",
     "text": [
      "23 is not divisible by 3\n",
      "45 is divisible by 3\n",
      "66 is divisible by 3\n",
      "89 is not divisible by 3\n",
      "99 is divisible by 3\n",
      "34 is not divisible by 3\n",
      "50 is not divisible by 3\n",
      "67 is not divisible by 3\n",
      "89 is not divisible by 3\n",
      "33 is divisible by 3\n",
      "21 is divisible by 3\n",
      "20 is not divisible by 3\n",
      "76 is not divisible by 3\n",
      "65 is not divisible by 3\n",
      "54 is divisible by 3\n"
     ]
    }
   ],
   "source": [
    "li=[23,45,66,89,99,34,50,67,89,33,21,20,76,65,54]\n",
    "for i in li:\n",
    "    if i%3==0:\n",
    "        print(i,\"is divisible by 3\")\n",
    "    else:\n",
    "        print(i,\"is not divisible by 3\")"
   ]
  },
  {
   "cell_type": "markdown",
   "id": "ef673e29",
   "metadata": {},
   "source": [
    "Q7. What do you understand about mutable and immutable data types? Give examples for both showing\n",
    "this property."
   ]
  },
  {
   "cell_type": "code",
   "execution_count": 8,
   "id": "bdcae065",
   "metadata": {},
   "outputs": [
    {
     "name": "stdout",
     "output_type": "stream",
     "text": [
      "[23, 45, 66, 89, 99, 'vidhi', 50, 67, 89, 33, 21, 20, 76, 65, 54]\n"
     ]
    },
    {
     "ename": "TypeError",
     "evalue": "'str' object does not support item assignment",
     "output_type": "error",
     "traceback": [
      "\u001b[1;31m---------------------------------------------------------------------------\u001b[0m",
      "\u001b[1;31mTypeError\u001b[0m                                 Traceback (most recent call last)",
      "\u001b[1;32m~\\AppData\\Local\\Temp/ipykernel_13824/3277131952.py\u001b[0m in \u001b[0;36m<module>\u001b[1;34m\u001b[0m\n\u001b[0;32m      4\u001b[0m \u001b[0mprint\u001b[0m\u001b[1;33m(\u001b[0m\u001b[0mli\u001b[0m\u001b[1;33m)\u001b[0m\u001b[1;33m\u001b[0m\u001b[1;33m\u001b[0m\u001b[0m\n\u001b[0;32m      5\u001b[0m \u001b[0mstr1\u001b[0m \u001b[1;33m=\u001b[0m \u001b[1;34m\"vidhi\"\u001b[0m\u001b[1;33m\u001b[0m\u001b[1;33m\u001b[0m\u001b[0m\n\u001b[1;32m----> 6\u001b[1;33m \u001b[0mstr1\u001b[0m\u001b[1;33m[\u001b[0m\u001b[1;36m2\u001b[0m\u001b[1;33m]\u001b[0m\u001b[1;33m=\u001b[0m\u001b[1;34m't'\u001b[0m\u001b[1;33m\u001b[0m\u001b[1;33m\u001b[0m\u001b[0m\n\u001b[0m",
      "\u001b[1;31mTypeError\u001b[0m: 'str' object does not support item assignment"
     ]
    }
   ],
   "source": [
    "# mutable means we can change the values of any particular index\n",
    "# and immuatable means we can't change the values  on any particular index\n",
    "li[5]= \"vidhi\"\n",
    "print(li)\n",
    "str1 = \"vidhi\"\n",
    "str1[2]='t'"
   ]
  },
  {
   "cell_type": "code",
   "execution_count": 9,
   "id": "43ff63c5",
   "metadata": {},
   "outputs": [
    {
     "name": "stdout",
     "output_type": "stream",
     "text": [
      "[1, 2, 3, 4]\n"
     ]
    }
   ],
   "source": [
    "my_list = [1, 2, 3]\n",
    "\n",
    "new_list = my_list\n",
    "\n",
    "new_list.append(4)\n",
    "\n",
    "print(my_list)"
   ]
  },
  {
   "cell_type": "code",
   "execution_count": null,
   "id": "2ae80c3c",
   "metadata": {},
   "outputs": [],
   "source": []
  }
 ],
 "metadata": {
  "kernelspec": {
   "display_name": "Python 3 (ipykernel)",
   "language": "python",
   "name": "python3"
  },
  "language_info": {
   "codemirror_mode": {
    "name": "ipython",
    "version": 3
   },
   "file_extension": ".py",
   "mimetype": "text/x-python",
   "name": "python",
   "nbconvert_exporter": "python",
   "pygments_lexer": "ipython3",
   "version": "3.9.7"
  }
 },
 "nbformat": 4,
 "nbformat_minor": 5
}
