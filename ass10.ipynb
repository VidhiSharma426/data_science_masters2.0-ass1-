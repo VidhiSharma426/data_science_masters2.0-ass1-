{
 "cells": [
  {
   "cell_type": "code",
   "execution_count": 6,
   "id": "758ef469-a9f3-41f9-8d36-931ebb12f5a0",
   "metadata": {},
   "outputs": [
    {
     "name": "stdout",
     "output_type": "stream",
     "text": [
      "Cube of 4: 64 \n",
      "\n",
      "Process has completed.\n"
     ]
    }
   ],
   "source": [
    "import multiprocessing\n",
    "\n",
    "def print_cube(number):\n",
    "    result = number * number * number\n",
    "    print(f\"Cube of {number}: {result} \\n\")\n",
    "\n",
    "# Main function\n",
    "if __name__ == \"__main__\":\n",
    "\n",
    "    process = multiprocessing.Process(target=print_cube, args=(4,))\n",
    "    process.start()\n",
    "    process.join()\n",
    "    print(\"Process has completed.\")\n"
   ]
  },
  {
   "cell_type": "code",
   "execution_count": 7,
   "id": "e350354d-a652-400f-81ed-da0868995552",
   "metadata": {},
   "outputs": [
    {
     "name": "stdout",
     "output_type": "stream",
     "text": [
      "Cube of 1: 1 \n",
      "Cube of 2: 8 \n",
      "Cube of 3: 27 \n",
      "\n",
      "\n",
      "\n",
      "Cube of 4: 64 \n",
      "Cube of 5: 125 \n",
      "\n",
      "\n"
     ]
    }
   ],
   "source": [
    "\n",
    "# Main function\n",
    "if __name__ == \"__main__\":\n",
    "     with multiprocessing.Pool(processes=3) as pool:\n",
    "        numbers = [1, 2, 3, 4, 5]\n",
    "        results = pool.map(print_cube, numbers)\n",
    "      "
   ]
  },
  {
   "cell_type": "code",
   "execution_count": 4,
   "id": "77d793fb-0516-4c39-b214-be089305ec5c",
   "metadata": {},
   "outputs": [
    {
     "name": "stdout",
     "output_type": "stream",
     "text": [
      " the number is 1\n",
      " the number is 2\n",
      " the number is 3\n",
      " the number is 4\n",
      "All processes have completed.\n"
     ]
    }
   ],
   "source": [
    "def print_number(num):\n",
    "    print(f\" the number is {num}\")\n",
    "    \n",
    "# Main function\n",
    "if __name__ == \"__main__\":\n",
    "    num_list=[1,2,3,4]\n",
    "    processes = []\n",
    "\n",
    "    for num in num_list:\n",
    "         process = multiprocessing.Process(target=print_number, args=(num,))\n",
    "         processes.append(process)\n",
    "         process.start()\n",
    "    for process in processes:\n",
    "        process.join()\n",
    "\n",
    "    print(\"All processes have completed.\")"
   ]
  },
  {
   "cell_type": "code",
   "execution_count": null,
   "id": "6c6e59ec-4903-4ba8-846a-5705b30cdf04",
   "metadata": {},
   "outputs": [],
   "source": []
  }
 ],
 "metadata": {
  "kernelspec": {
   "display_name": "Python 3 (ipykernel)",
   "language": "python",
   "name": "python3"
  },
  "language_info": {
   "codemirror_mode": {
    "name": "ipython",
    "version": 3
   },
   "file_extension": ".py",
   "mimetype": "text/x-python",
   "name": "python",
   "nbconvert_exporter": "python",
   "pygments_lexer": "ipython3",
   "version": "3.10.8"
  }
 },
 "nbformat": 4,
 "nbformat_minor": 5
}
