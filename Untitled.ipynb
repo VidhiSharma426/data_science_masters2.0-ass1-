{
 "cells": [
  {
   "cell_type": "markdown",
   "id": "0672f31b",
   "metadata": {},
   "source": [
    "### Q1. How do you comment code in Python? What are the different types of comments?\n",
    "there are basically three types of comments used in python\n",
    "1) single line comment \n",
    "ex: #this is a comment\n",
    "\n",
    "2) multiline comment\n",
    "ex: /* this\n",
    "    is \n",
    "    second\n",
    "    comment */\n",
    "    \n",
    "3) triple quote comments\n",
    "ex: \"\"\" Data science is an interdisciplinary field that harnesses the power of data to extract valuable insights, make informed decisions, and solve complex problems across various domains\"\"\""
   ]
  },
  {
   "cell_type": "markdown",
   "id": "210d4d0b",
   "metadata": {},
   "source": [
    "### Q2. What are variables in Python? How do you declare and assign values to variables?"
   ]
  },
  {
   "cell_type": "markdown",
   "id": "233c3f30",
   "metadata": {},
   "source": [
    "variables are like the containers in which we can store any kind of data on any data type"
   ]
  },
  {
   "cell_type": "code",
   "execution_count": 8,
   "id": "a8e21c6f",
   "metadata": {},
   "outputs": [
    {
     "name": "stdout",
     "output_type": "stream",
     "text": [
      "2400\n"
     ]
    }
   ],
   "source": [
    "variable = 40\n",
    "variable1 = 'vidhi'\n",
    "\n",
    "print(variable*60)"
   ]
  },
  {
   "cell_type": "markdown",
   "id": "a639be44",
   "metadata": {},
   "source": [
    "### Q3. How do you convert one data type to another in Python?"
   ]
  },
  {
   "cell_type": "code",
   "execution_count": 7,
   "id": "12aba16a",
   "metadata": {},
   "outputs": [
    {
     "data": {
      "text/plain": [
       "['v', 'i', 'd', 'h', 'i']"
      ]
     },
     "execution_count": 7,
     "metadata": {},
     "output_type": "execute_result"
    }
   ],
   "source": [
    "float(variable)\n",
    "varcomplex = 86.89764467\n",
    "int(varcomplex)\n",
    "list(variable1)\n"
   ]
  },
  {
   "cell_type": "markdown",
   "id": "14c8906b",
   "metadata": {},
   "source": [
    "### Q4. How do you write and execute a Python script from the command line?"
   ]
  },
  {
   "cell_type": "markdown",
   "id": "9999d58e",
   "metadata": {},
   "source": [
    "create a file and write your code and save it with .py extension"
   ]
  },
  {
   "cell_type": "markdown",
   "id": "bc3e9272",
   "metadata": {},
   "source": [
    "### Q5. Given a list my_list = [1, 2, 3, 4, 5], write the code to slice the list and obtain the sub-list [2, 3]."
   ]
  },
  {
   "cell_type": "code",
   "execution_count": 14,
   "id": "029fbb03",
   "metadata": {},
   "outputs": [
    {
     "data": {
      "text/plain": [
       "[2, 3]"
      ]
     },
     "execution_count": 14,
     "metadata": {},
     "output_type": "execute_result"
    }
   ],
   "source": [
    "my_list = [1,2,3,4,5]\n",
    "my_list[3]\n",
    "my_list[0:3]\n",
    "my_list[-2]\n",
    "my_list[0:-2]\n",
    "# obtain the sub-list [2, 3].\n",
    "my_list[1:3]"
   ]
  },
  {
   "cell_type": "markdown",
   "id": "28c0ff0a",
   "metadata": {},
   "source": [
    "### Q6. What is a complex number in mathematics, and how is it represented in Python?"
   ]
  },
  {
   "cell_type": "markdown",
   "id": "4c2cccab",
   "metadata": {},
   "source": [
    "complex numbers are thos which are having two parts : 1) real part  2) imaginary part(i)\n",
    " ex : 3+4i in mathematics \n",
    "    3+4j in python\n"
   ]
  },
  {
   "cell_type": "code",
   "execution_count": 16,
   "id": "8139de67",
   "metadata": {},
   "outputs": [],
   "source": [
    "comp = 7+8j"
   ]
  },
  {
   "cell_type": "markdown",
   "id": "c805d243",
   "metadata": {},
   "source": [
    "### Q7. What is the correct way to declare a variable named age and assign the value 25 to it?"
   ]
  },
  {
   "cell_type": "code",
   "execution_count": 18,
   "id": "ba0ee345",
   "metadata": {},
   "outputs": [],
   "source": [
    "age = 25\n",
    "# to describe a variable many conventions are used --> we can use _ symbol and alphabets to describe a variable . the varible can\n",
    "# never be shown like this ---> 4age etc"
   ]
  },
  {
   "cell_type": "markdown",
   "id": "3b8b2320",
   "metadata": {},
   "source": [
    "### Q8. Declare a variable named price and assign the value 9.99 to it. What data type does this variable belong to?"
   ]
  },
  {
   "cell_type": "code",
   "execution_count": 20,
   "id": "69d29f00",
   "metadata": {},
   "outputs": [
    {
     "data": {
      "text/plain": [
       "float"
      ]
     },
     "execution_count": 20,
     "metadata": {},
     "output_type": "execute_result"
    }
   ],
   "source": [
    "price = 9.99 \n",
    "# its is of float datatype \n",
    "type(price)"
   ]
  },
  {
   "cell_type": "markdown",
   "id": "d9f4cf73",
   "metadata": {},
   "source": [
    "### Q9. Create a variable named name and assign your full name to it as a string. How would you print the value of this variable?"
   ]
  },
  {
   "cell_type": "code",
   "execution_count": 22,
   "id": "5c7c20dc",
   "metadata": {},
   "outputs": [
    {
     "name": "stdout",
     "output_type": "stream",
     "text": [
      "vidhi sharma\n",
      "vidhi sharma\n"
     ]
    }
   ],
   "source": [
    "name = \"vidhi sharma\"\n",
    "print(name)\n",
    "for i in range(0,1):\n",
    "    print(name)"
   ]
  },
  {
   "cell_type": "markdown",
   "id": "b49390b1",
   "metadata": {},
   "source": [
    "### Q10. Given the string \"Hello, World!\", extract the substring \"World\"."
   ]
  },
  {
   "cell_type": "code",
   "execution_count": 28,
   "id": "d681e58c",
   "metadata": {},
   "outputs": [
    {
     "name": "stdout",
     "output_type": "stream",
     "text": [
      "World\n",
      "World\n"
     ]
    }
   ],
   "source": [
    "str1 = \"Hello, World!\"\n",
    "print(str1[7:12])\n",
    "print(str1[-6:-1])"
   ]
  },
  {
   "cell_type": "markdown",
   "id": "584d81a3",
   "metadata": {},
   "source": [
    "### Q11. Create a variable named \"is_student\" and assign it a boolean value indicating whether you are currently a student or not."
   ]
  },
  {
   "cell_type": "code",
   "execution_count": null,
   "id": "3fa21de4",
   "metadata": {},
   "outputs": [],
   "source": [
    "is_student = True\n",
    "# I am and i will be a student of data science "
   ]
  }
 ],
 "metadata": {
  "kernelspec": {
   "display_name": "Python 3 (ipykernel)",
   "language": "python",
   "name": "python3"
  },
  "language_info": {
   "codemirror_mode": {
    "name": "ipython",
    "version": 3
   },
   "file_extension": ".py",
   "mimetype": "text/x-python",
   "name": "python",
   "nbconvert_exporter": "python",
   "pygments_lexer": "ipython3",
   "version": "3.9.7"
  }
 },
 "nbformat": 4,
 "nbformat_minor": 5
}
