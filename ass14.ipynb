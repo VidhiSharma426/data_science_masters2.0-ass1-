{
 "cells": [
  {
   "cell_type": "markdown",
   "id": "350820f7",
   "metadata": {},
   "source": [
    "Q1. What is Flask Framework? What are the advantages of Flask Framework?"
   ]
  },
  {
   "cell_type": "markdown",
   "id": "3c62bc4e",
   "metadata": {},
   "source": [
    "Flask is a lightweight and versatile Python web framework that allows developers to build web applications quickly and efficiently. It is classified as a micro-framework because it does not require particular tools or libraries. Flask provides the essentials to build a web application, giving developers the flexibility to choose the components they want to use.\n",
    "\n",
    "Advantages of Flask Framework:\n",
    "\n",
    "Simplicity: Flask is designed to be simple and easy to use. Its minimalist design and uncluttered codebase make it accessible for beginners while allowing experienced developers the freedom to structure their applications as they see fit.\n",
    "\n",
    "Flexibility: Flask is incredibly flexible, allowing developers to choose the components they need. It doesn't impose any specific way of doing things, giving developers the freedom to use the libraries and tools they prefer.\n",
    "\n",
    "Modularity: Flask is built around the WSGI (Web Server Gateway Interface) standard, which promotes modularity. Developers can use Flask extensions to add functionality to their applications, ensuring that the core framework remains lightweight.\n",
    "\n",
    "Extensibility: Flask has a vibrant ecosystem of extensions that provide additional features and integrate with various services. These extensions help developers add authentication, form validation, database support, and more to their applications with minimal effort.\n",
    "\n",
    "Built-in Development Server and Debugger: Flask comes with a built-in development server and a powerful debugger, making it easier to develop, test, and debug applications. This built-in functionality saves developers time and effort during the development process."
   ]
  },
  {
   "cell_type": "markdown",
   "id": "d70158c3",
   "metadata": {},
   "source": [
    "Q2. Create a simple Flask application to display ‘Hello World!!’. Attach the screenshot of the output in\n",
    "Jupyter Notebook."
   ]
  },
  {
   "cell_type": "code",
   "execution_count": 1,
   "id": "026a7e87",
   "metadata": {},
   "outputs": [],
   "source": [
    "from flask import Flask\n",
    "from flask import request\n",
    "\n",
    "app = Flask(__name__)\n",
    "\n",
    "@app.route(\"/\")\n",
    "def hello_world():\n",
    "    return \"Hello, World!\""
   ]
  },
  {
   "attachments": {
    "image.png": {
     "image/png": "[encoded data removed]"
    }
   },
   "cell_type": "markdown",
   "id": "b15f99d7",
   "metadata": {},
   "source": [
    "![image.png](attachment:image.png)"
   ]
  },
  {
   "cell_type": "markdown",
   "id": "b2bf9b0c",
   "metadata": {},
   "source": [
    "Q3. What is App routing in Flask? Why do we use app routes?"
   ]
  },
  {
   "cell_type": "markdown",
   "id": "13bd1f18",
   "metadata": {},
   "source": [
    "**app routing** refers to the process of mapping URLs (Uniform Resource Locators) to specific functions or view handlers in your Flask application. When a user visits a specific URL in the web browser, the Flask application uses routes to determine which Python function should handle the request and generate the appropriate response.\n",
    "\n",
    "**usage of app routes:**\n",
    "URL Mapping: Routes provide a way to map specific URLs to corresponding functions in your Flask application. This URL mapping mechanism is fundamental for any web application, allowing users to access different functionalities based on the URL they visit.\n",
    "\n",
    "Organizing Code: Routes help organize your code by associating specific URLs with specific functions or handlers. This makes your codebase more maintainable and understandable, especially as your application grows in complexity.\n",
    "\n",
    "Dynamic URLs: Flask routes can contain variable parts, allowing you to create dynamic URLs. For example, you can define routes like /user/<username> where <username> is a variable part of the URL. The value of <username> can be extracted and used within the corresponding function.\n",
    "    \n",
    "HTTP Methods: Routes allow you to specify which HTTP methods (GET, POST, PUT, DELETE, etc.) are allowed for a particular URL. This enables you to design APIs and web applications following the principles of REST, where different HTTP methods have specific meanings and actions associated with them.\n",
    "\n",
    "Request Handling: Routes enable Flask to map incoming HTTP requests to the appropriate view functions. Based on the URL and HTTP method, Flask routes direct the request to the corresponding function, which processes the request and generates the appropriate response."
   ]
  },
  {
   "cell_type": "markdown",
   "id": "a15a4e8e",
   "metadata": {},
   "source": [
    "Q4. Create a “/welcome” route to display the welcome message “Welcome to ABC Corporation” and a “/”\n",
    "route to show the following details:\n",
    "Company Name: ABC Corporation\n",
    "Location: India\n",
    "Contact Detail: 999-999-9999\n",
    "Attach the screenshot of the output in Jupyter Notebook."
   ]
  },
  {
   "cell_type": "code",
   "execution_count": 5,
   "id": "e571aa11",
   "metadata": {},
   "outputs": [],
   "source": [
    "@app.route('/')\n",
    "def company_details():\n",
    "    return '''\n",
    "    Company Name: ABC Corporation\n",
    "    Location: India\n",
    "    Contact Detail: 999-999-9999\n",
    "    '''"
   ]
  },
  {
   "attachments": {
    "image.png": {
     "image/png": "[encoded data removed]"
    }
   },
   "cell_type": "markdown",
   "id": "944fa087",
   "metadata": {},
   "source": [
    "![image.png](attachment:image.png)"
   ]
  },
  {
   "cell_type": "code",
   "execution_count": null,
   "id": "201161b4",
   "metadata": {},
   "outputs": [],
   "source": [
    "@app.route(\"/Welcome\")\n",
    "def welcome_abc():\n",
    "    return \"Welcome to ABC Corporation\"\n"
   ]
  },
  {
   "attachments": {
    "image.png": {
     "image/png": "[encoded data removed]"
    }
   },
   "cell_type": "markdown",
   "id": "889480b7",
   "metadata": {},
   "source": [
    "![image.png](attachment:image.png)"
   ]
  },
  {
   "cell_type": "markdown",
   "id": "44f90318",
   "metadata": {},
   "source": [
    "Q5. What function is used in Flask for URL Building? Write a Python code to demonstrate the working of the\n",
    "url_for() function."
   ]
  },
  {
   "cell_type": "markdown",
   "id": "7ad86772",
   "metadata": {},
   "source": [
    "In Flask, the url_for() function is used for URL building. It generates a URL to a specific function within your Flask application. This function accepts the name of the target function as its first argument and can also take additional keyword arguments corresponding to the variable parts of the URL rule. It returns the URL for the given function."
   ]
  },
  {
   "cell_type": "code",
   "execution_count": 6,
   "id": "df31a033",
   "metadata": {},
   "outputs": [
    {
     "name": "stdout",
     "output_type": "stream",
     "text": [
      "/\n",
      "/user/john\n"
     ]
    }
   ],
   "source": [
    "from flask import Flask, url_for\n",
    "\n",
    "app = Flask(__name__)\n",
    "\n",
    "@app.route('/')\n",
    "def index():\n",
    "    return 'Welcome to the homepage'\n",
    "\n",
    "@app.route('/user/<username>')\n",
    "def profile(username):\n",
    "    return f'Hello, {username}'\n",
    "\n",
    "if __name__ == '__main__':\n",
    "    with app.test_request_context():\n",
    "        print(url_for('index'))  \n",
    "        print(url_for('profile', username='john'))  "
   ]
  },
  {
   "cell_type": "code",
   "execution_count": null,
   "id": "307f6f7a",
   "metadata": {},
   "outputs": [],
   "source": []
  }
 ],
 "metadata": {
  "kernelspec": {
   "display_name": "Python 3 (ipykernel)",
   "language": "python",
   "name": "python3"
  },
  "language_info": {
   "codemirror_mode": {
    "name": "ipython",
    "version": 3
   },
   "file_extension": ".py",
   "mimetype": "text/x-python",
   "name": "python",
   "nbconvert_exporter": "python",
   "pygments_lexer": "ipython3",
   "version": "3.9.7"
  }
 },
 "nbformat": 4,
 "nbformat_minor": 5
}
