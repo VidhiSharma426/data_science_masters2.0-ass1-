{
 "cells": [
  {
   "cell_type": "markdown",
   "id": "8166bbf3",
   "metadata": {},
   "source": [
    "what is multithreading in python? hy is it used? Name the module used to handle threads in python"
   ]
  },
  {
   "cell_type": "markdown",
   "id": "5ac139a3",
   "metadata": {},
   "source": [
    "Multithreading in Python refers to a concurrent execution of threads in a single process. \n",
    "A thread is the smallest unit of a CPU's execution, and multithreading allows a program to perform multiple tasks concurrently,\n",
    "making it more responsive and efficient.\n",
    "Multithreading is used in Python for various purposes, such as improving the parallelizing I/O-bound tasks, \n",
    "and managing multiple tasks simultaneously.\n",
    "In Python, the threading module is used to handle threads"
   ]
  },
  {
   "cell_type": "markdown",
   "id": "2c48859e",
   "metadata": {},
   "source": [
    "why threading module used? rite the use of the following functions\n",
    "( activeCount\n",
    " currentThread\n",
    " enumerate)"
   ]
  },
  {
   "cell_type": "code",
   "execution_count": 2,
   "id": "ae5eaf35",
   "metadata": {},
   "outputs": [
    {
     "name": "stdout",
     "output_type": "stream",
     "text": [
      "a function is executing \n",
      "7\n",
      "\n",
      "Current thread name: Thread-9\n",
      "a function is executing \n",
      "\n",
      "[<_MainThread(MainThread, started 12560)>, <Thread(Thread-6, started daemon 1480)>, <Heartbeat(Thread-7, started daemon 15328)>, <ControlThread(Thread-5, started daemon 2436)>, <HistorySavingThread(IPythonHistorySavingThread, started 11896)>, <ParentPollerWindows(Thread-4, started daemon 13988)>]\n"
     ]
    }
   ],
   "source": [
    "# the threading module is used to perform threading.\n",
    "# activeCount:\n",
    "import threading\n",
    "def func():\n",
    "    print(\"a function is executing \\n\")\n",
    "thread = threading.Thread(target=func)\n",
    "thread.start()\n",
    "print(threading.activeCount())\n",
    "\n",
    "# current thread\n",
    "def my_function():\n",
    "    print(\"Current thread name:\", threading.currentThread().getName())\n",
    "thread = threading.Thread(target=my_function)\n",
    "thread.start()\n",
    "\n",
    "\n",
    "# enumerate\n",
    "thread = threading.Thread(target=func)\n",
    "thread.start()\n",
    "print(threading.enumerate())"
   ]
  },
  {
   "cell_type": "markdown",
   "id": "092b5ead",
   "metadata": {},
   "source": [
    "3. Explain the following functions\n",
    "( run\n",
    " start\n",
    " join\n",
    "' isAlive)"
   ]
  },
  {
   "cell_type": "code",
   "execution_count": 4,
   "id": "152988c1",
   "metadata": {},
   "outputs": [
    {
     "name": "stdout",
     "output_type": "stream",
     "text": [
      "a function is executing \n",
      "\n",
      "a function is executing \n",
      "\n",
      "a function is executing \n",
      "\n",
      "its done\n"
     ]
    }
   ],
   "source": [
    "\n",
    "thread = threading.Thread(target=func)\n",
    "thread.start()\n",
    "thread = threading.Thread(target=func)\n",
    "thread.start()\n",
    "thread.join()\n",
    "\n",
    "thread = threading.Thread(target=func)\n",
    "thread.start()\n",
    "if thread.is_alive():\n",
    "    print(\"thread is running\")\n",
    "else:\n",
    "    print(\"its done\")"
   ]
  },
  {
   "cell_type": "code",
   "execution_count": 5,
   "id": "12ef06d1",
   "metadata": {},
   "outputs": [
    {
     "name": "stdout",
     "output_type": "stream",
     "text": [
      "a function is executing \n",
      "thread is running\n",
      "\n"
     ]
    }
   ],
   "source": [
    "thread = threading.Thread(target=func)\n",
    "thread.start()\n",
    "if thread.is_alive():\n",
    "    print(\"thread is running\")\n",
    "else:\n",
    "    print(\"its done\")"
   ]
  },
  {
   "cell_type": "markdown",
   "id": "c90efbca",
   "metadata": {},
   "source": [
    "4. rite a python program to create two threads. Thread one must print the list of squares and thread\n",
    "two must print the list of cubes"
   ]
  },
  {
   "cell_type": "code",
   "execution_count": 16,
   "id": "ccc14101",
   "metadata": {},
   "outputs": [
    {
     "name": "stdout",
     "output_type": "stream",
     "text": [
      "[100, 400, 900]\n",
      "[125, 216, 343]\n"
     ]
    }
   ],
   "source": [
    "def square(list1):\n",
    "    print( [i**2 for i in list1 ])\n",
    "def cube (list2):\n",
    "    print([i**3 for i in list2])\n",
    "list1 = [10, 20, 30]\n",
    "list2 = [5, 6, 7]\n",
    "thread1 = threading.Thread(target = square,args = (list1,))\n",
    "thread2 = threading.Thread(target = cube ,args=(list2,))\n",
    "thread1.start()\n",
    "thread2.start()\n",
    "thread1.join()\n",
    "thread2.join()"
   ]
  },
  {
   "cell_type": "markdown",
   "id": "939279eb",
   "metadata": {},
   "source": [
    "Q5. State advantages and disadvantages of multithreading"
   ]
  },
  {
   "cell_type": "markdown",
   "id": "394b3e12",
   "metadata": {},
   "source": [
    "advantages:\n",
    "1)parallelism and concurrent access of resources\n",
    "2) better resource utilisation\n",
    "3)faster execution\n",
    "4)modularity\n",
    "\n",
    "disadvantages:\n",
    "1) difficult to handle\n",
    "2) deadlocks condition may arise\n",
    "3) race conditions may airse\n",
    "4) increase memory usage"
   ]
  },
  {
   "cell_type": "markdown",
   "id": "53bc2aa3",
   "metadata": {},
   "source": [
    "Q6. Explain deadlocks and race conditions."
   ]
  },
  {
   "cell_type": "markdown",
   "id": "6251298e",
   "metadata": {},
   "source": [
    "\n",
    "A deadlock occurs in a multithreaded or multiprocessor environment when two or more \n",
    "threads are unable to proceed because each is waiting for the other to release a resource.\n",
    "A race condition occurs in a concurrent system when the behavior of the system depends on the relative timing of events, \n",
    "such as the order of execution of operations on shared data. "
   ]
  },
  {
   "cell_type": "code",
   "execution_count": null,
   "id": "73c561af",
   "metadata": {},
   "outputs": [],
   "source": []
  }
 ],
 "metadata": {
  "kernelspec": {
   "display_name": "Python 3 (ipykernel)",
   "language": "python",
   "name": "python3"
  },
  "language_info": {
   "codemirror_mode": {
    "name": "ipython",
    "version": 3
   },
   "file_extension": ".py",
   "mimetype": "text/x-python",
   "name": "python",
   "nbconvert_exporter": "python",
   "pygments_lexer": "ipython3",
   "version": "3.9.7"
  }
 },
 "nbformat": 4,
 "nbformat_minor": 5
}
