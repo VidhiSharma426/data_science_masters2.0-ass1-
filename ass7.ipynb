{
 "cells": [
  {
   "cell_type": "markdown",
   "id": "0a3e0b6c",
   "metadata": {},
   "source": [
    "Q1. Wh\n",
    "t is\n",
    "n Ex,eption in p\n",
    "\n",
    "thon? Write the differen,e etween Ex,eptions\n",
    "nd $\n",
    "nt\n",
    "x errors"
   ]
  },
  {
   "cell_type": "markdown",
   "id": "e6751a3e",
   "metadata": {},
   "source": [
    "In Python, an exception is an event that occurs during the execution of a program, disrupting the normal flow of the program's instructions. When a Python script encounters a situation that it cannot cope with, it raises an exception. Exceptions are used to handle errors and other exceptional events in Python programs.\n",
    "\n",
    "syntax errors : these are the mistakes present in code these can be of two types logical and syntax errors .syntax errors are those which are related to the syntax of any language"
   ]
  },
  {
   "cell_type": "markdown",
   "id": "f8493054",
   "metadata": {},
   "source": [
    "Q2 what happens when exceptions is not handeled ? explain with example?"
   ]
  },
  {
   "cell_type": "code",
   "execution_count": 1,
   "id": "ee34b844",
   "metadata": {},
   "outputs": [
    {
     "ename": "ZeroDivisionError",
     "evalue": "division by zero",
     "output_type": "error",
     "traceback": [
      "\u001b[1;31m---------------------------------------------------------------------------\u001b[0m",
      "\u001b[1;31mZeroDivisionError\u001b[0m                         Traceback (most recent call last)",
      "\u001b[1;32m~\\AppData\\Local\\Temp/ipykernel_3912/2189160532.py\u001b[0m in \u001b[0;36m<module>\u001b[1;34m\u001b[0m\n\u001b[0;32m      3\u001b[0m \u001b[0ma\u001b[0m\u001b[1;33m=\u001b[0m \u001b[1;36m4\u001b[0m\u001b[1;33m\u001b[0m\u001b[1;33m\u001b[0m\u001b[0m\n\u001b[0;32m      4\u001b[0m \u001b[0mb\u001b[0m \u001b[1;33m=\u001b[0m \u001b[1;36m0\u001b[0m\u001b[1;33m\u001b[0m\u001b[1;33m\u001b[0m\u001b[0m\n\u001b[1;32m----> 5\u001b[1;33m \u001b[0mprint\u001b[0m\u001b[1;33m(\u001b[0m\u001b[0ma\u001b[0m\u001b[1;33m/\u001b[0m\u001b[0mb\u001b[0m\u001b[1;33m)\u001b[0m\u001b[1;33m\u001b[0m\u001b[1;33m\u001b[0m\u001b[0m\n\u001b[0m",
      "\u001b[1;31mZeroDivisionError\u001b[0m: division by zero"
     ]
    }
   ],
   "source": [
    "# if the exceptions is not handeled carefully it becomes a disruption in the normal execution of the code\n",
    "# ex\n",
    "a= 4\n",
    "b = 0 \n",
    "print(a/b)"
   ]
  },
  {
   "cell_type": "markdown",
   "id": "a4e8d2b3",
   "metadata": {},
   "source": [
    "Q3 which python statement are used to catch and handle exceptions ? explain with an example?"
   ]
  },
  {
   "cell_type": "code",
   "execution_count": 6,
   "id": "b259c21f",
   "metadata": {},
   "outputs": [
    {
     "name": "stdout",
     "output_type": "stream",
     "text": [
      "[Errno 2] No such file or directory: 'file1.txt'\n"
     ]
    }
   ],
   "source": [
    "# try except statements are used to handle exceptions\n",
    "try:\n",
    "    with open(\"file1.txt\",\"r\") as f:\n",
    "        con= f.read()\n",
    "except Exception as e:\n",
    "    print(e)\n",
    "        "
   ]
  },
  {
   "cell_type": "markdown",
   "id": "1c25bca8",
   "metadata": {},
   "source": [
    "Q4 explain with an example\n",
    "\n",
    "a. try and else\n",
    "b. finally\n",
    "c. raise"
   ]
  },
  {
   "cell_type": "code",
   "execution_count": 8,
   "id": "d85dc678",
   "metadata": {},
   "outputs": [
    {
     "name": "stdout",
     "output_type": "stream",
     "text": [
      "invalid literal for int() with base 10: 'vidhi'\n"
     ]
    }
   ],
   "source": [
    "try:\n",
    "    a=\"vidhi\"\n",
    "    b = int(a)\n",
    "except Exception as e:\n",
    "    print(e)\n",
    "else:\n",
    "    print(\"invalid\")"
   ]
  },
  {
   "cell_type": "code",
   "execution_count": 9,
   "id": "f2729cd3",
   "metadata": {},
   "outputs": [
    {
     "name": "stdout",
     "output_type": "stream",
     "text": [
      "invalid literal for int() with base 10: 'vidhi'\n",
      "invalid\n"
     ]
    }
   ],
   "source": [
    "try:\n",
    "    a=\"vidhi\"\n",
    "    b = int(a)\n",
    "except Exception as e:\n",
    "    print(e)\n",
    "finally:\n",
    "    \n",
    "    print(\"invalid\")"
   ]
  },
  {
   "cell_type": "code",
   "execution_count": 12,
   "id": "751d5c92",
   "metadata": {},
   "outputs": [
    {
     "name": "stdout",
     "output_type": "stream",
     "text": [
      "Enter your age: -89\n",
      "Error: Age cannot be negative.\n"
     ]
    }
   ],
   "source": [
    "def calculate_age(age):\n",
    "    if age < 0:\n",
    "        raise ValueError(\"Age cannot be negative.\")\n",
    "try:\n",
    "    user_age = int(input(\"Enter your age: \"))\n",
    "    calculate_age(user_age)\n",
    "except ValueError as e:\n",
    "    print(\"Error:\", e)\n"
   ]
  },
  {
   "cell_type": "markdown",
   "id": "ec1d44af",
   "metadata": {},
   "source": [
    "Q5 what are the custom exceptions in python why do we need it?explain with an example?\n"
   ]
  },
  {
   "cell_type": "code",
   "execution_count": 16,
   "id": "9b8c7c73",
   "metadata": {},
   "outputs": [
    {
     "name": "stdout",
     "output_type": "stream",
     "text": [
      "custom exception [Errno 2] No such file or directory: 'file2.txt'\n"
     ]
    }
   ],
   "source": [
    "class CustomException(Exception):\n",
    "    def __init__(self, message):\n",
    "        super().__init__(message)\n",
    "def fileopen(msg):\n",
    "     with open(\"file2.txt\",\"r\") as f:\n",
    "        f.read()\n",
    "try:\n",
    "    fileopen(\"file not found\")\n",
    "except Exception as e:\n",
    "    print(\"custom exception\",e)"
   ]
  },
  {
   "cell_type": "markdown",
   "id": "1af74722",
   "metadata": {},
   "source": [
    "Q6 create a custom exception class and handle the exceptions"
   ]
  },
  {
   "cell_type": "code",
   "execution_count": 19,
   "id": "91a2b640",
   "metadata": {},
   "outputs": [
    {
     "name": "stdout",
     "output_type": "stream",
     "text": [
      "custom exception division by zero\n"
     ]
    }
   ],
   "source": [
    "class CustomException(Exception):\n",
    "    def __init__(self, message):\n",
    "        super().__init__(message)\n",
    "def divbyzero(msg):\n",
    "    a=3\n",
    "    b=0\n",
    "    a/b\n",
    "#     print(msg)\n",
    "try:\n",
    "    divbyzero(\"divison by zero\")\n",
    "except Exception as e:\n",
    "    print(\"custom exception\",e)"
   ]
  },
  {
   "cell_type": "code",
   "execution_count": null,
   "id": "2e68d442",
   "metadata": {},
   "outputs": [],
   "source": []
  }
 ],
 "metadata": {
  "kernelspec": {
   "display_name": "Python 3 (ipykernel)",
   "language": "python",
   "name": "python3"
  },
  "language_info": {
   "codemirror_mode": {
    "name": "ipython",
    "version": 3
   },
   "file_extension": ".py",
   "mimetype": "text/x-python",
   "name": "python",
   "nbconvert_exporter": "python",
   "pygments_lexer": "ipython3",
   "version": "3.9.7"
  }
 },
 "nbformat": 4,
 "nbformat_minor": 5
}
