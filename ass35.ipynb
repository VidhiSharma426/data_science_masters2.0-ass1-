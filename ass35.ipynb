{
 "cells": [
  {
   "cell_type": "markdown",
   "id": "ae272e1c",
   "metadata": {},
   "source": [
    "### Q1- Explain the following with examples:\n",
    "### a) Artificial Intelligence\n",
    "### b) Machine Learning\n",
    "### c) Deep Learning"
   ]
  },
  {
   "cell_type": "markdown",
   "id": "d4106937",
   "metadata": {},
   "source": [
    "a) Artificial Intelligence (AI): AI refers to the simulation of human intelligence in machines that are programmed to think and mimic human actions. Example: Virtual Personal Assistants like Siri or Alexa.\n",
    "b) Machine Learning (ML): ML is a subset of AI that enables systems to learn and improve from experience without being explicitly programmed. Example: Spam email filters that learn to identify spam based on user actions.\n",
    "c) Deep Learning (DL): DL is a subset of ML that involves neural networks with multiple layers, allowing the system to learn and make decisions on its own. Example: Image and speech recognition applications."
   ]
  },
  {
   "cell_type": "markdown",
   "id": "591b9c4e",
   "metadata": {},
   "source": [
    "### Q2: What is supervised learning? List some examples."
   ]
  },
  {
   "cell_type": "markdown",
   "id": "7fd1d51a",
   "metadata": {},
   "source": [
    "Supervised Learning: In supervised learning, the algorithm is trained on a labeled dataset, where the input data is paired with the corresponding output. The model makes predictions, and its performance is evaluated based on the provided labels. Examples include:\n",
    "Image classification: Training a model to recognize objects in images.\n",
    "Spam detection: Teaching a system to identify spam and non-spam emails.\n",
    "Regression analysis: Predicting a numerical value, such as predicting house prices based on features."
   ]
  },
  {
   "cell_type": "markdown",
   "id": "70015742",
   "metadata": {},
   "source": [
    "### Q3: What is unsupervised learning? List some examples."
   ]
  },
  {
   "cell_type": "markdown",
   "id": "47eea2b3",
   "metadata": {},
   "source": [
    "Unsupervised Learning: In unsupervised learning, the algorithm is given unlabeled data and must find patterns or relationships without explicit guidance. Examples include:\n",
    "Clustering: Grouping similar data points together (e.g., customer segmentation).\n",
    "Association: Identifying relationships between variables in a dataset.\n",
    "Anomaly detection: Detecting unusual patterns or outliers in data."
   ]
  },
  {
   "cell_type": "markdown",
   "id": "1357cdd9",
   "metadata": {},
   "source": [
    "### Q4: What is the difference between AI, ML, DL, and DS?"
   ]
  },
  {
   "cell_type": "markdown",
   "id": "f6d74271",
   "metadata": {},
   "source": [
    "AI (Artificial Intelligence) is the broader concept of machines simulating human intelligence.\n",
    "ML (Machine Learning) is a subset of AI where systems learn from data to improve their performance.\n",
    "DL (Deep Learning) is a subset of ML involving neural networks with multiple layers.\n",
    "DS (Data Science) involves extracting insights and knowledge from data using various methods, including AI and ML."
   ]
  },
  {
   "cell_type": "markdown",
   "id": "5333f1e0",
   "metadata": {},
   "source": [
    "### Q5: What are the main differences between supervised, unsupervised, and semi-supervised learning?"
   ]
  },
  {
   "cell_type": "markdown",
   "id": "819cc333",
   "metadata": {},
   "source": [
    "Supervised learning uses labeled data, unsupervised learning uses unlabeled data, and semi-supervised learning uses a combination of both labeled and unlabeled data for training."
   ]
  },
  {
   "cell_type": "markdown",
   "id": "bf6b87bd",
   "metadata": {},
   "source": [
    "### Q6: What is train, test, and validation split? Explain the importance of each term."
   ]
  },
  {
   "cell_type": "markdown",
   "id": "904de954",
   "metadata": {},
   "source": [
    "Train, test, and validation split involves dividing the dataset into three parts:\n",
    "Training set: Used to train the model.\n",
    "Test set: Used to evaluate the model's performance after training.\n",
    "Validation set: Used during the training phase to fine-tune the model and avoid overfitting.\n",
    "The importance lies in assessing how well the model generalizes to new, unseen data and preventing overfitting by tuning hyperparameters with the validation set."
   ]
  },
  {
   "cell_type": "markdown",
   "id": "06a6dc0d",
   "metadata": {},
   "source": [
    "### Q7: How can unsupervised learning be used in anomaly detection?"
   ]
  },
  {
   "cell_type": "markdown",
   "id": "e1a11bc7",
   "metadata": {},
   "source": [
    "Unsupervised learning can identify anomalies by learning the normal patterns in data. Any deviation from these learned patterns can be considered an anomaly. Clustering or density-based methods are often used for anomaly detection without explicit labels."
   ]
  },
  {
   "cell_type": "markdown",
   "id": "6c8c25ff",
   "metadata": {},
   "source": [
    "### Q8: List down some commonly used supervised learning algorithms and unsupervised learning algorithms."
   ]
  },
  {
   "cell_type": "markdown",
   "id": "1a2ea432",
   "metadata": {},
   "source": [
    "Common supervised learning algorithms:\n",
    "Linear Regression\n",
    "Decision Trees\n",
    "Support Vector Machines (SVM)\n",
    "Neural Networks\n",
    "Random Forest\n",
    "Common unsupervised learning algorithms:\n",
    "K-Means Clustering\n",
    "Hierarchical Clustering\n",
    "Principal Component Analysis (PCA)\n",
    "Gaussian Mixture Models (GMM)\n",
    "Association rule algorithms (e.g., Apriori)"
   ]
  },
  {
   "cell_type": "code",
   "execution_count": null,
   "id": "0ad34e32",
   "metadata": {},
   "outputs": [],
   "source": []
  }
 ],
 "metadata": {
  "kernelspec": {
   "display_name": "Python 3 (ipykernel)",
   "language": "python",
   "name": "python3"
  },
  "language_info": {
   "codemirror_mode": {
    "name": "ipython",
    "version": 3
   },
   "file_extension": ".py",
   "mimetype": "text/x-python",
   "name": "python",
   "nbconvert_exporter": "python",
   "pygments_lexer": "ipython3",
   "version": "3.9.7"
  }
 },
 "nbformat": 4,
 "nbformat_minor": 5
}
