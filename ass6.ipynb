{
 "cells": [
  {
   "cell_type": "markdown",
   "id": "de1bb023",
   "metadata": {},
   "source": [
    "Q1, Create a vehicle class with an init method having instance variables as name_of_vehicle, max_speed\n",
    "and average_of_vehicle."
   ]
  },
  {
   "cell_type": "code",
   "execution_count": 3,
   "id": "bc0c43a1",
   "metadata": {},
   "outputs": [
    {
     "name": "stdout",
     "output_type": "stream",
     "text": [
      "ferrari 205 8.77\n"
     ]
    }
   ],
   "source": [
    "class vehicles:\n",
    "    def __init__(self, name_of_vehicle, max_speed , average_of_vehicle):\n",
    "        self.name_of_vehicle= name_of_vehicle\n",
    "        self. max_speed = max_speed \n",
    "        self.average_of_vehicle=average_of_vehicle\n",
    "    def show(self):\n",
    "        print(self.name_of_vehicle,self.max_speed,self.average_of_vehicle)\n",
    "        \n",
    "v=vehicles(\"ferrari\",205,8.77)\n",
    "v.show()   "
   ]
  },
  {
   "cell_type": "markdown",
   "id": "dbc1c8ee",
   "metadata": {},
   "source": [
    "Q2. Create a child class car from the vehicle class created in Que 1, which will inherit the vehicle class.\n",
    "Create a method named seating_capacity which takes capacity as an argument and returns the name of\n",
    "the vehicle and its seating capacity."
   ]
  },
  {
   "cell_type": "code",
   "execution_count": 6,
   "id": "b80a6e88",
   "metadata": {},
   "outputs": [
    {
     "name": "stdout",
     "output_type": "stream",
     "text": [
      "lambhorgini 2\n"
     ]
    }
   ],
   "source": [
    "class vehicles:\n",
    "    def __init__(self, name_of_vehicle, max_speed , average_of_vehicle):\n",
    "        self.name_of_vehicle= name_of_vehicle\n",
    "        self. max_speed = max_speed \n",
    "        self.average_of_vehicle=average_of_vehicle\n",
    "    def show(self):\n",
    "        print(self.name_of_vehicle,self.max_speed,self.average_of_vehicle)\n",
    "        \n",
    "class car(vehicles):\n",
    "    def seats_in_car(self,seating_capacity):\n",
    "        self.seating_capacity=seating_capacity\n",
    "        print(self.name_of_vehicle,self.seating_capacity)\n",
    "c1 = car(\"lambhorgini\",205,8.77)   \n",
    "c1.seats_in_car(2)"
   ]
  },
  {
   "cell_type": "markdown",
   "id": "11206a37",
   "metadata": {},
   "source": [
    "Q3. What is multiple inheritance? Write a python code to demonstrate multiple inheritance."
   ]
  },
  {
   "cell_type": "code",
   "execution_count": 20,
   "id": "4e66e00c",
   "metadata": {},
   "outputs": [
    {
     "name": "stdout",
     "output_type": "stream",
     "text": [
      "woof\n",
      "Labrador 3 Siamese 2\n",
      "             meow\n"
     ]
    }
   ],
   "source": [
    "# multiple inheritance\n",
    "class dog:\n",
    "    def __init__(self,dbreed,dage):\n",
    "        self.dbreed = dbreed\n",
    "        self.dage = dage\n",
    "    def speak(self,voice):\n",
    "        self.voice=voice\n",
    "        print(self.voice)\n",
    "class cat:\n",
    "    def __init__(self,cbreed,cage):\n",
    "        self.cbreed = cbreed\n",
    "        self.cage = cage\n",
    "    def speak(self,voice):\n",
    "        self.voice=voice\n",
    "        print(self.voice)\n",
    "class animals(dog,cat):\n",
    "    def __init__(self,dbreed,dage,cbreed,cage):\n",
    "        \n",
    "        dog.__init__(self, dbreed, dage)\n",
    "        cat.__init__(self, cbreed, cage)\n",
    "    def show(self):\n",
    "        print(self.dbreed,self.dage,self.cbreed,self.cage)\n",
    "animal1 = animals(\"Labrador\", 3, \"Siamese\", 2)\n",
    "animal1.speak(\"woof\")\n",
    "\n",
    "animal1.show()\n",
    "animal1.speak(\"             meow\")"
   ]
  },
  {
   "cell_type": "markdown",
   "id": "fa6613de",
   "metadata": {},
   "source": [
    "Q4. What are getter and setter in python? Create a class and create a getter and a setter method in this\n",
    "class."
   ]
  },
  {
   "cell_type": "code",
   "execution_count": 32,
   "id": "638f0c5b",
   "metadata": {},
   "outputs": [
    {
     "name": "stdout",
     "output_type": "stream",
     "text": [
      "20 vidhi\n",
      "invalid data\n"
     ]
    }
   ],
   "source": [
    "class student:\n",
    "    def get(self,name,age):\n",
    "        self.name=name\n",
    "        self.age=age\n",
    "    def set(self,age):\n",
    "        self.age=age\n",
    "        if self.age<0:\n",
    "            print(\"invalid data\")\n",
    "s1 = student()\n",
    "s1.get(\"vidhi\",19)\n",
    "s1.set(20)\n",
    "print(s1.age,s1.name)\n",
    "s2 = student()\n",
    "s2.get(\"arpita\",-20)\n",
    "s2.set(-20)"
   ]
  },
  {
   "cell_type": "markdown",
   "id": "538796df",
   "metadata": {},
   "source": [
    "Q5.What is method overriding in python? Write a python code to demonstrate method overriding."
   ]
  },
  {
   "cell_type": "code",
   "execution_count": 34,
   "id": "ab9237b6",
   "metadata": {},
   "outputs": [
    {
     "name": "stdout",
     "output_type": "stream",
     "text": [
      "Area of Circle: 78.5\n",
      "Area of Rectangle: 24\n"
     ]
    }
   ],
   "source": [
    "class Shape:\n",
    "    def area(self):\n",
    "        return 0\n",
    "\n",
    "class Circle(Shape):\n",
    "    def __init__(self, radius):\n",
    "        self.radius = radius\n",
    "\n",
    "    # Method overriding\n",
    "    def area(self):\n",
    "        return 3.14 * self.radius ** 2\n",
    "\n",
    "class Rectangle(Shape):\n",
    "    def __init__(self, length, width):\n",
    "        self.length = length\n",
    "        self.width = width\n",
    "\n",
    "    # Method overriding\n",
    "    def area(self):\n",
    "        return self.length * self.width\n",
    "circle = Circle(5)\n",
    "rectangle = Rectangle(4, 6)\n",
    "print(\"Area of Circle:\", circle.area())\n",
    "print(\"Area of Rectangle:\", rectangle.area()) "
   ]
  },
  {
   "cell_type": "code",
   "execution_count": null,
   "id": "4aa73a06",
   "metadata": {},
   "outputs": [],
   "source": []
  }
 ],
 "metadata": {
  "kernelspec": {
   "display_name": "Python 3 (ipykernel)",
   "language": "python",
   "name": "python3"
  },
  "language_info": {
   "codemirror_mode": {
    "name": "ipython",
    "version": 3
   },
   "file_extension": ".py",
   "mimetype": "text/x-python",
   "name": "python",
   "nbconvert_exporter": "python",
   "pygments_lexer": "ipython3",
   "version": "3.9.7"
  }
 },
 "nbformat": 4,
 "nbformat_minor": 5
}
