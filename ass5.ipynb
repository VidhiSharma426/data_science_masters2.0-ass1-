{
 "cells": [
  {
   "cell_type": "markdown",
   "id": "5fd27343",
   "metadata": {},
   "source": [
    "Q1. Explain Class and Object with respect to Object-Oriented Programming. Give a suitable example."
   ]
  },
  {
   "cell_type": "markdown",
   "id": "306fbe57",
   "metadata": {},
   "source": [
    "Class: A class is a blueprint or template for creating objects. It defines the structure and behavior  that objects of that class will have. Classes are used to create and define the properties and behaviors of objects.\n",
    "\n",
    "Object: An object is an instance of a class. It is a representation of the class blueprint, with its own set of attributes and the ability to execute the methods defined in the class. Objects are created from classes and allow you to work with specific instances of a concept or entity."
   ]
  },
  {
   "cell_type": "code",
   "execution_count": 4,
   "id": "393bd57c",
   "metadata": {},
   "outputs": [
    {
     "name": "stdout",
     "output_type": "stream",
     "text": [
      "vidhi 426 78875567\n"
     ]
    }
   ],
   "source": [
    "class student:\n",
    "    def __init__(self,name,roll_no,phone_no):\n",
    "        self.name=name\n",
    "        self.roll_no = roll_no\n",
    "        self.phone_no=phone_no\n",
    "    def show_details(self):\n",
    "        print(self.name,self.roll_no,self.phone_no)\n",
    "st1 = student(\"vidhi\",426,78875567)\n",
    "st1.show_details()"
   ]
  },
  {
   "cell_type": "markdown",
   "id": "461f195b",
   "metadata": {},
   "source": [
    "Q2. Name the four pillars of OOPs."
   ]
  },
  {
   "cell_type": "markdown",
   "id": "2c038539",
   "metadata": {},
   "source": [
    "1)abstraction\n",
    "2)encapsulation\n",
    "3)inheritance\n",
    "4)polymorphism"
   ]
  },
  {
   "cell_type": "markdown",
   "id": "6751f41e",
   "metadata": {},
   "source": [
    "Q3. Explain why the __init__() function is used. Give a suitable example."
   ]
  },
  {
   "cell_type": "markdown",
   "id": "8f22dc8f",
   "metadata": {},
   "source": [
    "__init__() it is a constructor which gets called when we made objects of a class.Its purpose is to initialize the attributes or properties of the object."
   ]
  },
  {
   "cell_type": "code",
   "execution_count": 5,
   "id": "9c0013f1",
   "metadata": {},
   "outputs": [
    {
     "name": "stdout",
     "output_type": "stream",
     "text": [
      "vidhi 1001 78875567\n"
     ]
    }
   ],
   "source": [
    "class data_analyst:\n",
    "    def __init__(self,name,empid,phone_no):\n",
    "        self.name=name\n",
    "        self.empid = empid\n",
    "        self.phone_no=phone_no\n",
    "    def show_details(self):\n",
    "        print(self.name,self.empid,self.phone_no)\n",
    "st1 = data_analyst(\"vidhi\",1001,78875567)\n",
    "st1.show_details()"
   ]
  },
  {
   "cell_type": "markdown",
   "id": "44df5864",
   "metadata": {},
   "source": [
    "Q4. Why self is used in OOPs?"
   ]
  },
  {
   "cell_type": "markdown",
   "id": "2a390ae5",
   "metadata": {},
   "source": [
    "the self keyword is used to refer to the instance of the class within its own methods."
   ]
  },
  {
   "cell_type": "markdown",
   "id": "b250a0a3",
   "metadata": {},
   "source": [
    "Q5. What is inheritance? Give an example for each type of inheritance."
   ]
  },
  {
   "cell_type": "markdown",
   "id": "2a8b09b0",
   "metadata": {},
   "source": [
    "inheritance means inheriting the properties of a parent class to a child class . its mai advantage is code reusability.there are 5 types of inheritance in oops.\n",
    "###### 1) single inheritance\n",
    "###### 2) multiple inheritance\n",
    "###### 3) multilevel inheritance\n",
    "###### 4) hierarchial inheritance \n",
    "###### 5) hybrid inheritance"
   ]
  },
  {
   "cell_type": "code",
   "execution_count": 6,
   "id": "a25b390a",
   "metadata": {},
   "outputs": [
    {
     "name": "stdout",
     "output_type": "stream",
     "text": [
      "abc\n",
      "sudhanshu sir\n"
     ]
    }
   ],
   "source": [
    "# single inheritance \n",
    "class student:\n",
    "    def __init__(self,name,roll_no,phone_no):\n",
    "        self.name=name\n",
    "        self.roll_no = roll_no\n",
    "        self.phone_no=phone_no\n",
    "    def show_details(self):\n",
    "        print(self.name)\n",
    "class mentor(student):\n",
    "    def __init__(self,name):\n",
    "        self.name = name\n",
    "mentor1 = mentor(\"sudhanshu sir\")\n",
    "student1 = student(\"abc\",426,345554)\n",
    "student1.show_details()\n",
    "mentor1.show_details()"
   ]
  },
  {
   "cell_type": "code",
   "execution_count": 21,
   "id": "1b860382",
   "metadata": {},
   "outputs": [
    {
     "name": "stdout",
     "output_type": "stream",
     "text": [
      "Labrador 3 Siamese 2\n"
     ]
    }
   ],
   "source": [
    "# multiple inheritance\n",
    "class dog:\n",
    "    def __init__(self,dbreed,dage):\n",
    "        self.dbreed = dbreed\n",
    "        self.dage = dage\n",
    "class cat:\n",
    "    def __init__(self,cbreed,cage):\n",
    "        self.cbreed = cbreed\n",
    "        self.cage = cage\n",
    "class animals(dog,cat):\n",
    "    def __init__(self,dbreed,dage,cbreed,cage):\n",
    "        \n",
    "        dog.__init__(self, dbreed, dage)\n",
    "        cat.__init__(self, cbreed, cage)\n",
    "    def show(self):\n",
    "        print(self.dbreed,self.dage,self.cbreed,self.cage)\n",
    "animal1 = animals(\"Labrador\", 3, \"Siamese\", 2)\n",
    "animal1.show()"
   ]
  },
  {
   "cell_type": "code",
   "execution_count": 4,
   "id": "85d96f46",
   "metadata": {},
   "outputs": [
    {
     "name": "stdout",
     "output_type": "stream",
     "text": [
      "blue\n"
     ]
    }
   ],
   "source": [
    "# multilevel inheritance\n",
    "class grandfather:\n",
    "    def __init__(self,eye_clr):\n",
    "        self.eye_clr=eye_clr\n",
    "class father(grandfather):\n",
    "    def __init__(self,eye_clr):\n",
    "        self.eye_clr = eye_clr\n",
    "class child(father):\n",
    "    def __init__(self,eye_clr):\n",
    "        self.eye_clr = eye_clr\n",
    "    def show(self):\n",
    "        print(self.eye_clr)\n",
    "child1=child(\"blue\")\n",
    "child1 .show() "
   ]
  },
  {
   "cell_type": "code",
   "execution_count": 12,
   "id": "9b9d04f7",
   "metadata": {},
   "outputs": [
    {
     "name": "stdout",
     "output_type": "stream",
     "text": [
      "rose red\n",
      "sunflower yellow\n"
     ]
    }
   ],
   "source": [
    "# hierarchial inheritance\n",
    "class flowers:\n",
    "    def __init__(self,flo_name):\n",
    "        self.flo_name = flo_name\n",
    "    def colour(self,clr):\n",
    "        pass\n",
    "class rose(flowers):\n",
    "    def colour(self,clr):\n",
    "        self.clr = clr\n",
    "        print(self.flo_name,self.clr)\n",
    "class sunflower(flowers):\n",
    "    def colour(self,clr):\n",
    "        self.clr = clr\n",
    "        print(self.flo_name,self.clr)\n",
    "r = rose(\"rose\")\n",
    "r.colour(\"red\")\n",
    "s = sunflower(\"sunflower\")\n",
    "s.colour(\"yellow\")"
   ]
  },
  {
   "cell_type": "code",
   "execution_count": 16,
   "id": "269cf23d",
   "metadata": {},
   "outputs": [
    {
     "name": "stdout",
     "output_type": "stream",
     "text": [
      "land transport ['bus', 'car', 'bike']\n",
      "air transport ['aeroplane', 'helicopter']\n",
      "tata motors\n"
     ]
    }
   ],
   "source": [
    "# hybrid inheritance\n",
    "class transport:\n",
    "    def __init__(self,type_of_transport):\n",
    "        self.type_of_transport=type_of_transport\n",
    "        \n",
    "    def vehicles(self,list_of_vehicles):\n",
    "        pass\n",
    "class land_transport(transport):\n",
    "    def vehicles(self,list_of_vehicles):\n",
    "        self.list_of_vehicles=list_of_vehicles\n",
    "        print(self.type_of_transport,self.list_of_vehicles)\n",
    "class air_transport(transport):\n",
    "     def vehicles(self,list_of_vehicles):\n",
    "        self.list_of_vehicles=list_of_vehicles\n",
    "        print(self.type_of_transport,self.list_of_vehicles)\n",
    "class industry(land_transport,air_transport):\n",
    "    def industry_name(self,ind_name):\n",
    "        self.ind_name = ind_name\n",
    "        print(self.ind_name)\n",
    "        \n",
    "land_transport1=land_transport(\"land transport\")\n",
    "land_transport1.vehicles(['bus','car','bike'])\n",
    "air_transport1=land_transport(\"air transport\")\n",
    "air_transport1.vehicles(['aeroplane','helicopter'])\n",
    "industry1 = industry('air,land')\n",
    "industry1.industry_name(\"tata motors\")"
   ]
  },
  {
   "cell_type": "code",
   "execution_count": null,
   "id": "c51e697c",
   "metadata": {},
   "outputs": [],
   "source": []
  }
 ],
 "metadata": {
  "kernelspec": {
   "display_name": "Python 3 (ipykernel)",
   "language": "python",
   "name": "python3"
  },
  "language_info": {
   "codemirror_mode": {
    "name": "ipython",
    "version": 3
   },
   "file_extension": ".py",
   "mimetype": "text/x-python",
   "name": "python",
   "nbconvert_exporter": "python",
   "pygments_lexer": "ipython3",
   "version": "3.9.7"
  }
 },
 "nbformat": 4,
 "nbformat_minor": 5
}
