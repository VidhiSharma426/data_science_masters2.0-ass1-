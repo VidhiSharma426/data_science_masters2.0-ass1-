{
 "cells": [
  {
   "cell_type": "markdown",
   "id": "e1666a89",
   "metadata": {},
   "source": [
    "### Q1. What is the difference between Ordinal Encoding and Label Encoding? Provide an example of when you\n",
    "### might choose one over the other.\n",
    "\n"
   ]
  },
  {
   "cell_type": "markdown",
   "id": "b197d146",
   "metadata": {},
   "source": [
    "**Ordinal Encoding** and **Label Encoding** are both techniques used to convert categorical data into numerical form, but they have key differences in their applications and assumptions.\n",
    "\n",
    "**Ordinal Encoding:**\n",
    "- **Nature:** Suitable for ordinal categorical variables, where there is an inherent order or ranking among the categories.\n",
    "- **Process:** Assigns integer values based on the ordinal relationship among categories. The assigned integers represent the order or rank of the categories.\n",
    "- **Example:** If the ordinal variable is \"Education Level\" with categories \"High School,\" \"Bachelor's,\" \"Master's,\" and \"Ph.D.,\" ordinal encoding might assign 1, 2, 3, and 4, respectively.\n",
    "\n",
    "**Label Encoding:**\n",
    "- **Nature:** Typically used for nominal categorical variables, where there is no inherent order among categories.\n",
    "- **Process:** Assigns unique integer labels to each category without considering any order. Each category is represented by a distinct integer.\n",
    "- **Example:** If the nominal variable is \"Color\" with categories \"Red,\" \"Blue,\" \"Green,\" label encoding might assign 1, 2, and 3, respectively.\n",
    "\n",
    "**Example Scenario:**\n",
    "Consider a dataset with a categorical variable \"Temperature Level\" with categories \"Low,\" \"Medium,\" and \"High.\" The variable can be treated as either ordinal or nominal, depending on the context:\n",
    "\n",
    "1. **Ordinal Encoding:**\n",
    "   - If \"Low,\" \"Medium,\" and \"High\" represent a clear order or ranking of temperature levels, you might use ordinal encoding. Assigning 1, 2, and 3 to these categories would reflect the order.\n",
    "   - Use ordinal encoding when the relative order among categories matters for the task at hand.\n",
    "\n",
    "```python\n",
    "\n",
    "\n",
    "2. **Label Encoding:**\n",
    "   - If \"Low,\" \"Medium,\" and \"High\" are just arbitrary labels without a specific order, you might use label encoding. Each category is assigned a unique label without considering any order.\n",
    "   - Use label encoding when there is no meaningful order among the categories.\n",
    "\n",
    "\n",
    "\n",
    "In summary, the choice between ordinal encoding and label encoding depends on the nature of the categorical variable and whether there is an inherent order among its categories. If order matters, use ordinal encoding; if not, use label encoding."
   ]
  },
  {
   "cell_type": "code",
   "execution_count": 1,
   "id": "644d72cc",
   "metadata": {},
   "outputs": [],
   "source": [
    "from sklearn.preprocessing import OrdinalEncoder\n",
    "\n",
    "# Sample data\n",
    "temperature_levels = [['Low'], ['Medium'], ['High']]\n",
    "\n",
    "# Initialize the OrdinalEncoder\n",
    "ordinal_encoder = OrdinalEncoder()\n",
    "\n",
    "# Fit and transform the data\n",
    "encoded_temperature = ordinal_encoder.fit_transform(temperature_levels)\n"
   ]
  },
  {
   "cell_type": "code",
   "execution_count": 2,
   "id": "6819cbc0",
   "metadata": {},
   "outputs": [],
   "source": [
    "\n",
    "from sklearn.preprocessing import LabelEncoder\n",
    "\n",
    "# Sample data\n",
    "temperature_levels = ['Low', 'Medium', 'High']\n",
    "\n",
    "# Initialize the LabelEncoder\n",
    "label_encoder = LabelEncoder()\n",
    "\n",
    "# Fit and transform the data\n",
    "encoded_temperature = label_encoder.fit_transform(temperature_levels)\n"
   ]
  },
  {
   "cell_type": "markdown",
   "id": "2b78b26f",
   "metadata": {},
   "source": [
    "### Q2. Explain how Target Guided Ordinal Encoding works and provide an example of when you might use it in\n",
    "### a machine learning project."
   ]
  },
  {
   "cell_type": "markdown",
   "id": "07d871f0",
   "metadata": {},
   "source": [
    "**Target Guided Ordinal Encoding** is a technique used for encoding categorical variables, especially ordinal ones, based on the relationship between the categories and the target variable. Instead of relying solely on the ordinal relationship among categories, this method considers the impact of each category on the target variable. It assigns ordinal labels to the categories based on their mean or median target value, creating an encoding that reflects the target variable's influence.\n",
    "\n",
    "**Steps for Target Guided Ordinal Encoding:**\n",
    "\n",
    "1. **Calculate Mean or Median Target Value for Each Category:**\n",
    "   - For each category in the ordinal variable, calculate the mean or median of the target variable.\n",
    "\n",
    "2. **Order Categories Based on Target Values:**\n",
    "   - Order the categories based on their mean or median target values.\n",
    "\n",
    "3. **Assign Ordinal Labels:**\n",
    "   - Assign ordinal labels to the categories based on their order.\n",
    "\n",
    "4. **Replace Original Categories with Encoded Labels:**\n",
    "   - Replace the original categorical values with their corresponding ordinal labels.\n",
    "\n",
    "**Example Scenario: Predicting Loan Default:**\n",
    "\n"
   ]
  },
  {
   "cell_type": "code",
   "execution_count": 4,
   "id": "273337fe",
   "metadata": {},
   "outputs": [
    {
     "name": "stdout",
     "output_type": "stream",
     "text": [
      "Accuracy: 0.5\n"
     ]
    }
   ],
   "source": [
    "\n",
    "import pandas as pd\n",
    "from sklearn.model_selection import train_test_split\n",
    "from sklearn.ensemble import RandomForestClassifier\n",
    "from sklearn.metrics import accuracy_score\n",
    "\n",
    "# Sample data\n",
    "data = pd.DataFrame({\n",
    "    'Education Level': ['High School', 'Bachelor\\'s', 'Master\\'s', 'Ph.D.', 'Bachelor\\'s', 'High School', 'Master\\'s'],\n",
    "    'Loan Default': [0,1,0,1,0,0,1]\n",
    "})\n",
    "\n",
    "# Split the data\n",
    "X_train, X_test, y_train, y_test = train_test_split(data['Education Level'], data['Loan Default'], test_size=0.2, random_state=42)\n",
    "\n",
    "# Calculate mean target value for each category\n",
    "education_target_means = data.groupby('Education Level')['Loan Default'].mean().sort_values()\n",
    "\n",
    "# Create a dictionary mapping categories to their mean target values\n",
    "education_encoding_dict = {category: i for i, category in enumerate(education_target_means.index, 1)}\n",
    "\n",
    "# Apply encoding to the training and testing sets\n",
    "X_train_encoded = X_train.map(education_encoding_dict)\n",
    "X_test_encoded = X_test.map(education_encoding_dict)\n",
    "\n",
    "# Train a machine learning model (Random Forest) using the encoded feature\n",
    "model = RandomForestClassifier(random_state=42)\n",
    "model.fit(X_train_encoded.values.reshape(-1, 1), y_train)\n",
    "\n",
    "# Make predictions on the test set\n",
    "y_pred = model.predict(X_test_encoded.values.reshape(-1, 1))\n",
    "\n",
    "# Evaluate the model's accuracy\n",
    "accuracy = accuracy_score(y_test, y_pred)\n",
    "print(f\"Accuracy: {accuracy}\")\n"
   ]
  },
  {
   "cell_type": "markdown",
   "id": "88d4cfe9",
   "metadata": {},
   "source": [
    "### Q3. Define covariance and explain why it is important in statistical analysis. How is covariance calculated?\n"
   ]
  },
  {
   "cell_type": "markdown",
   "id": "f388111e",
   "metadata": {},
   "source": [
    "**Covariance** is a statistical measure that quantifies the degree to which two variables change together. In other words, it describes how much two random variables vary together. A positive covariance indicates that as one variable increases, the other tends to increase as well. A negative covariance indicates that as one variable increases, the other tends to decrease. A covariance of zero suggests no linear relationship between the variables.\n",
    "\n",
    "**Importance of Covariance in Statistical Analysis:**\n",
    "\n",
    "1. **Relationship Strength:**\n",
    "   - Covariance helps in assessing the strength and direction of the linear relationship between two variables. A higher absolute value of covariance indicates a stronger relationship.\n",
    "\n",
    "2. **Portfolio Analysis:**\n",
    "   - In finance, covariance is used to assess the diversification benefits of including multiple assets in a portfolio. Assets with low or negative covariance can provide better risk reduction.\n",
    "\n",
    "3. **Risk Assessment:**\n",
    "   - Covariance is essential in risk assessment. In the context of finance, it helps in understanding how the returns of different assets move relative to each other.\n",
    "\n",
    "4. **Regression Analysis:**\n",
    "   - In regression analysis, covariance is used to estimate the coefficients of the regression equation, providing insights into the relationships between variables.\n",
    "\n",
    "**Calculation of Covariance:**\n",
    "\n",
    "The covariance between two variables, X and Y, is calculated using the following formula:\n",
    "\n",
    "\\[ \\text{Cov}(X, Y) = \\frac{\\sum_{i=1}^{n} (X_i - \\bar{X})(Y_i - \\bar{Y})}{n-1} \\]\n",
    "\n",
    "Where:\n",
    "- \\(X_i\\) and \\(Y_i\\) are individual data points.\n",
    "- \\(\\bar{X}\\) and \\(\\bar{Y}\\) are the means of variables X and Y, respectively.\n",
    "- \\(n\\) is the number of data points.\n",
    "\n",
    "Alternatively, covariance can be expressed in matrix form for a dataset with multiple variables:\n",
    "\n",
    "\\[ \\text{Cov}(X, Y) = \\frac{1}{n-1} \\cdot (X - \\bar{X})^T \\cdot (Y - \\bar{Y}) \\]\n",
    "\n",
    "Where:\n",
    "- \\(X\\) and \\(Y\\) are matrices where each column represents a variable, and each row represents an observation.\n",
    "- \\(^T\\) denotes the transpose of a matrix.\n",
    "\n",
    "It's important to note that the scale of covariance is not standardized, making it difficult to compare covariances between different pairs of variables. To address this, correlation, which is the normalized version of covariance, is often used. Correlation ranges between -1 and 1, with 1 indicating a perfect positive linear relationship, -1 indicating a perfect negative linear relationship, and 0 indicating no linear relationship."
   ]
  },
  {
   "cell_type": "markdown",
   "id": "d7721700",
   "metadata": {},
   "source": [
    "### Q4. For a dataset with the following categorical variables: Color (red, green, blue), Size (small, medium,\n",
    "### large), and Material (wood, metal, plastic), perform label encoding using Python's scikit-learn library.\n",
    "### Show your code and explain the output."
   ]
  },
  {
   "cell_type": "code",
   "execution_count": 5,
   "id": "c90f0101",
   "metadata": {},
   "outputs": [
    {
     "name": "stdout",
     "output_type": "stream",
     "text": [
      "   Color    Size Material  Color_Encoded  Size_Encoded  Material_Encoded\n",
      "0    red   small     wood              2             2                 2\n",
      "1  green  medium    metal              1             1                 0\n",
      "2   blue   large  plastic              0             0                 1\n",
      "3    red  medium    metal              2             1                 0\n",
      "4   blue   small     wood              0             2                 2\n"
     ]
    }
   ],
   "source": [
    "from sklearn.preprocessing import LabelEncoder\n",
    "import pandas as pd\n",
    "\n",
    "# Sample data\n",
    "data = pd.DataFrame({\n",
    "    'Color': ['red', 'green', 'blue', 'red', 'blue'],\n",
    "    'Size': ['small', 'medium', 'large', 'medium', 'small'],\n",
    "    'Material': ['wood', 'metal', 'plastic', 'metal', 'wood']\n",
    "})\n",
    "\n",
    "# Initialize LabelEncoder for each categorical variable\n",
    "color_encoder = LabelEncoder()\n",
    "size_encoder = LabelEncoder()\n",
    "material_encoder = LabelEncoder()\n",
    "\n",
    "# Fit and transform each categorical variable using label encoding\n",
    "data['Color_Encoded'] = color_encoder.fit_transform(data['Color'])\n",
    "data['Size_Encoded'] = size_encoder.fit_transform(data['Size'])\n",
    "data['Material_Encoded'] = material_encoder.fit_transform(data['Material'])\n",
    "\n",
    "# Display the encoded dataset\n",
    "print(data)\n"
   ]
  },
  {
   "cell_type": "markdown",
   "id": "72e27048",
   "metadata": {},
   "source": [
    "\n",
    "### Q5. Calculate the covariance matrix for the following variables in a dataset: Age, Income, and Education\n",
    "### level. Interpret the results.\n"
   ]
  },
  {
   "cell_type": "code",
   "execution_count": 6,
   "id": "75e660c2",
   "metadata": {},
   "outputs": [
    {
     "name": "stdout",
     "output_type": "stream",
     "text": [
      "                      Age       Income  Education Level\n",
      "Age                  62.5     112500.0             12.5\n",
      "Income           112500.0  255000000.0          28500.0\n",
      "Education Level      12.5      28500.0              5.2\n"
     ]
    }
   ],
   "source": [
    "import pandas as pd\n",
    "\n",
    "# Sample data\n",
    "data = pd.DataFrame({\n",
    "    'Age': [25, 30, 35, 40, 45],\n",
    "    'Income': [50000, 60000, 75000, 90000, 80000],\n",
    "    'Education Level': [12, 16, 14, 18, 16]\n",
    "})\n",
    "\n",
    "# Calculate the covariance matrix\n",
    "covariance_matrix = data.cov()\n",
    "\n",
    "# Display the covariance matrix\n",
    "print(covariance_matrix)\n"
   ]
  },
  {
   "cell_type": "markdown",
   "id": "e11bc1c8",
   "metadata": {},
   "source": [
    "### Q6. You are working on a machine learning project with a dataset containing several categorical\n",
    "### variables, including \"Gender\" (Male/Female), \"Education Level\" (High School/Bachelor's/Master's/PhD),\n",
    "### and \"Employment Status\" (Unemployed/Part-Time/Full-Time). Which encoding method would you use for\n",
    "### each variable, and why?\n"
   ]
  },
  {
   "cell_type": "markdown",
   "id": "53f69874",
   "metadata": {},
   "source": [
    "For the categorical variables \"Gender,\" \"Education Level,\" and \"Employment Status\" in your dataset, the choice of encoding method depends on the nature of each variable. Here are recommendations for encoding methods based on typical characteristics:\n",
    "\n",
    "1. **Gender (Binary Categorical Variable):**\n",
    "   - **Encoding Method:** Label Encoding or One-Hot Encoding\n",
    "   - **Explanation:**\n",
    "     - Since \"Gender\" is a binary variable with two categories (Male/Female), you can use either label encoding or one-hot encoding.\n",
    "     - Label encoding assigns 0 or 1 to the categories (e.g., Male = 0, Female = 1).\n",
    "     - One-hot encoding creates two binary columns, where one column represents Male (0 or 1) and the other represents Female (0 or 1). This is useful if the model might misinterpret ordinal relationships in label encoding.\n",
    "\n",
    "2. **Education Level (Ordinal Categorical Variable):**\n",
    "   - **Encoding Method:** Ordinal Encoding or One-Hot Encoding\n",
    "   - **Explanation:**\n",
    "     - \"Education Level\" is ordinal, meaning there is a clear order or ranking among categories (High School < Bachelor's < Master's < PhD).\n",
    "     - Ordinal encoding assigns integer labels based on the order.\n",
    "     - One-hot encoding can be used, especially if there is no clear ordinal relationship or if you want to avoid introducing assumptions about the distances between education levels.\n",
    "\n",
    "3. **Employment Status (Nominal Categorical Variable):**\n",
    "   - **Encoding Method:** One-Hot Encoding\n",
    "   - **Explanation:**\n",
    "     - \"Employment Status\" is likely nominal, meaning there is no inherent order among categories (Unemployed, Part-Time, Full-Time).\n",
    "     - One-hot encoding is suitable for nominal variables, creating binary columns for each category. It avoids introducing a false sense of order, as ordinal encoding might do.\n",
    "\n",
    "**Example Code in Python:**\n",
    "```python\n",
    "import pandas as pd\n",
    "\n",
    "# Sample data\n",
    "data = pd.DataFrame({\n",
    "    'Gender': ['Male', 'Female', 'Male', 'Female'],\n",
    "    'Education Level': ['High School', 'Bachelor\\'s', 'Master\\'s', 'PhD'],\n",
    "    'Employment Status': ['Unemployed', 'Part-Time', 'Full-Time', 'Part-Time']\n",
    "})\n",
    "\n",
    "# One-hot encoding using pandas get_dummies\n",
    "encoded_data = pd.get_dummies(data, columns=['Gender', 'Education Level', 'Employment Status'])\n",
    "\n",
    "# Display the encoded dataset\n",
    "print(encoded_data)\n",
    "```\n",
    "\n",
    "This example uses one-hot encoding for all variables. Adjust the encoding method based on the specific characteristics of your dataset and the requirements of your machine learning model."
   ]
  },
  {
   "cell_type": "markdown",
   "id": "6477ba22",
   "metadata": {},
   "source": [
    "### Q7. You are analyzing a dataset with two continuous variables, \"Temperature\" and \"Humidity\", and two\n",
    "### categorical variables, \"Weather Condition\" (Sunny/Cloudy/Rainy) and \"Wind Direction\" (North/South/\n",
    "### East/West). Calculate the covariance between each pair of variables and interpret the results."
   ]
  },
  {
   "cell_type": "code",
   "execution_count": 7,
   "id": "b8e93699",
   "metadata": {},
   "outputs": [
    {
     "name": "stdout",
     "output_type": "stream",
     "text": [
      "             Temperature  Humidity\n",
      "Temperature          9.2     -12.9\n",
      "Humidity           -12.9      35.3\n"
     ]
    }
   ],
   "source": [
    "import pandas as pd\n",
    "\n",
    "# Sample data\n",
    "data = pd.DataFrame({\n",
    "    'Temperature': [25, 28, 22, 30, 26],\n",
    "    'Humidity': [60, 65, 70, 55, 58],\n",
    "    'Weather Condition': ['Sunny', 'Cloudy', 'Rainy', 'Cloudy', 'Sunny'],\n",
    "    'Wind Direction': ['North', 'South', 'East', 'West', 'North']\n",
    "})\n",
    "\n",
    "# Calculate the covariance matrix\n",
    "covariance_matrix = data.cov()\n",
    "\n",
    "# Display the covariance matrix\n",
    "print(covariance_matrix)\n"
   ]
  },
  {
   "cell_type": "code",
   "execution_count": null,
   "id": "df347220",
   "metadata": {},
   "outputs": [],
   "source": []
  }
 ],
 "metadata": {
  "kernelspec": {
   "display_name": "Python 3 (ipykernel)",
   "language": "python",
   "name": "python3"
  },
  "language_info": {
   "codemirror_mode": {
    "name": "ipython",
    "version": 3
   },
   "file_extension": ".py",
   "mimetype": "text/x-python",
   "name": "python",
   "nbconvert_exporter": "python",
   "pygments_lexer": "ipython3",
   "version": "3.9.7"
  }
 },
 "nbformat": 4,
 "nbformat_minor": 5
}
