{
 "cells": [
  {
   "cell_type": "markdown",
   "id": "b9d9f0c6",
   "metadata": {},
   "source": [
    "### Q1. Write a Python function that takes in two arrays of data and calculates the F-value for a variance ratio test. The function should return the F-value and the corresponding p-value for the test.\n",
    "\n",
    "\n",
    "\n",
    "\n",
    "\n",
    "\n"
   ]
  },
  {
   "cell_type": "code",
   "execution_count": 2,
   "id": "ca578912",
   "metadata": {},
   "outputs": [
    {
     "name": "stdout",
     "output_type": "stream",
     "text": [
      "F-value: 4.0\n",
      "P-value: 0.20799999999999996\n"
     ]
    }
   ],
   "source": [
    "# Q1\n",
    "\n",
    "import numpy as np\n",
    "from scipy.stats import f\n",
    "\n",
    "def variance_ratio_test(arr1, arr2):\n",
    "    var1 = np.var(arr1, ddof=1)\n",
    "    var2 = np.var(arr2, ddof=1)\n",
    "\n",
    "    f_value = var1 / var2 if var1 >= var2 else var2 / var1\n",
    "    df1 = len(arr1) - 1\n",
    "    df2 = len(arr2) - 1\n",
    "    p_value = 2 * min(f.cdf(f_value, df1, df2), 1 - f.cdf(f_value, df1, df2))\n",
    "\n",
    "    return f_value, p_value\n",
    "\n",
    "# Example usage:\n",
    "array1 = [1, 2, 3, 4, 5]\n",
    "array2 = [2, 4, 6, 8, 10]\n",
    "result = variance_ratio_test(array1, array2)\n",
    "print(\"F-value:\", result[0])\n",
    "print(\"P-value:\", result[1])\n"
   ]
  },
  {
   "cell_type": "markdown",
   "id": "abb799ba",
   "metadata": {},
   "source": [
    "### Q2. Given a significance level of 0.05 and the degrees of freedom for the numerator and denominator of an F-distribution, write a Python function that returns the critical F-value for a two-tailed test."
   ]
  },
  {
   "cell_type": "code",
   "execution_count": 3,
   "id": "15af207c",
   "metadata": {},
   "outputs": [
    {
     "name": "stdout",
     "output_type": "stream",
     "text": [
      "Critical F-value: 3.8586986662732143\n"
     ]
    }
   ],
   "source": [
    "from scipy.stats import f\n",
    "\n",
    "def critical_f_value(alpha, df_num, df_denom):\n",
    "    return f.ppf(1 - alpha / 2, df_num, df_denom)\n",
    "\n",
    "# Example usage:\n",
    "alpha = 0.05\n",
    "df_num = 3\n",
    "df_denom = 20\n",
    "critical_value = critical_f_value(alpha, df_num, df_denom)\n",
    "print(\"Critical F-value:\", critical_value)\n"
   ]
  },
  {
   "cell_type": "markdown",
   "id": "cbc82014",
   "metadata": {},
   "source": [
    "### Q3. Write a Python program that generates random samples from two normal distributions with known variances and uses an F-test to determine if the variances are equal. The program should output the F- value, degrees of freedom, and p-value for the test."
   ]
  },
  {
   "cell_type": "code",
   "execution_count": 4,
   "id": "4fbc4d2b",
   "metadata": {},
   "outputs": [
    {
     "name": "stdout",
     "output_type": "stream",
     "text": [
      "F-value: 1.4391239930644892\n",
      "Degrees of Freedom: 49 49\n",
      "P-value: 0.20616491667767778\n"
     ]
    }
   ],
   "source": [
    "import numpy as np\n",
    "from scipy.stats import f\n",
    "\n",
    "def f_test_equal_variances(sample1, sample2):\n",
    "    var1 = np.var(sample1, ddof=1)\n",
    "    var2 = np.var(sample2, ddof=1)\n",
    "\n",
    "    f_value = var1 / var2 if var1 >= var2 else var2 / var1\n",
    "    df1 = len(sample1) - 1\n",
    "    df2 = len(sample2) - 1\n",
    "    p_value = 2 * min(f.cdf(f_value, df1, df2), 1 - f.cdf(f_value, df1, df2))\n",
    "\n",
    "    return f_value, df1, df2, p_value\n",
    "\n",
    "# Example usage:\n",
    "sample1 = np.random.normal(0, 10, 50)\n",
    "sample2 = np.random.normal(0, 10, 50)\n",
    "result = f_test_equal_variances(sample1, sample2)\n",
    "print(\"F-value:\", result[0])\n",
    "print(\"Degrees of Freedom:\", result[1], result[2])\n",
    "print(\"P-value:\", result[3])\n"
   ]
  },
  {
   "cell_type": "markdown",
   "id": "77b12f8e",
   "metadata": {},
   "source": [
    "### Q4.The variances of two populations are known to be 10 and 15. A sample of 12 observations is taken from each population. Conduct an F-test at the 5% significance level to determine if the variances are significantly different."
   ]
  },
  {
   "cell_type": "code",
   "execution_count": 5,
   "id": "a8dcdb1d",
   "metadata": {},
   "outputs": [
    {
     "name": "stdout",
     "output_type": "stream",
     "text": [
      "F-value: 0.6666666666666666\n",
      "Degrees of Freedom: 11 11\n",
      "P-value: 0.5123897987357996\n",
      "Reject Null Hypothesis: False\n"
     ]
    }
   ],
   "source": [
    "from scipy.stats import f\n",
    "\n",
    "def f_test_known_variances(variance1, variance2, n1, n2, alpha):\n",
    "    f_value = variance1 / variance2\n",
    "    df1 = n1 - 1\n",
    "    df2 = n2 - 1\n",
    "    p_value = 2 * min(f.cdf(f_value, df1, df2), 1 - f.cdf(f_value, df1, df2))\n",
    "\n",
    "    return f_value, df1, df2, p_value, p_value < alpha\n",
    "\n",
    "# Example usage:\n",
    "variance1 = 10\n",
    "variance2 = 15\n",
    "n1 = 12\n",
    "n2 = 12\n",
    "alpha = 0.05\n",
    "result = f_test_known_variances(variance1, variance2, n1, n2, alpha)\n",
    "print(\"F-value:\", result[0])\n",
    "print(\"Degrees of Freedom:\", result[1], result[2])\n",
    "print(\"P-value:\", result[3])\n",
    "print(\"Reject Null Hypothesis:\", result[4])\n"
   ]
  },
  {
   "cell_type": "markdown",
   "id": "a42444f6",
   "metadata": {},
   "source": [
    "### Q5. A manufacturer claims that the variance of the diameter of a certain product is 0.005. A sample of 25 products is taken, and the sample variance is found to be 0.006. Conduct an F-test at the 1% significance level to determine if the claim is justified."
   ]
  },
  {
   "cell_type": "code",
   "execution_count": 6,
   "id": "f33eb9a9",
   "metadata": {},
   "outputs": [
    {
     "name": "stdout",
     "output_type": "stream",
     "text": [
      "F-value: 1.2\n",
      "Degrees of Freedom: 24 1\n",
      "P-value: 0.7407800760081285\n",
      "Reject Null Hypothesis: False\n"
     ]
    }
   ],
   "source": [
    "from scipy.stats import f\n",
    "\n",
    "def f_test_claim_justification(claimed_variance, sample_variance, n, alpha):\n",
    "    f_value = sample_variance / claimed_variance\n",
    "    df1 = n - 1\n",
    "    df2 = 1\n",
    "    p_value = 2 * min(f.cdf(f_value, df1, df2), 1 - f.cdf(f_value, df1, df2))\n",
    "\n",
    "    return f_value, df1, df2, p_value, p_value < alpha\n",
    "\n",
    "# Example usage:\n",
    "claimed_variance = 0.005\n",
    "sample_variance = 0.006\n",
    "n = 25\n",
    "alpha = 0.01\n",
    "result = f_test_claim_justification(claimed_variance, sample_variance, n, alpha)\n",
    "print(\"F-value:\", result[0])\n",
    "print(\"Degrees of Freedom:\", result[1], result[2])\n",
    "print(\"P-value:\", result[3])\n",
    "print(\"Reject Null Hypothesis:\", result[4])\n"
   ]
  },
  {
   "cell_type": "markdown",
   "id": "94990e5d",
   "metadata": {},
   "source": [
    "### Q6. Write a Python function that takes in the degrees of freedom for the numerator and denominator of an F-distribution and calculates the mean and variance of the distribution. The function should return the mean and variance as a tuple."
   ]
  },
  {
   "cell_type": "code",
   "execution_count": 7,
   "id": "1683d408",
   "metadata": {},
   "outputs": [
    {
     "name": "stdout",
     "output_type": "stream",
     "text": [
      "Mean: 1.1111111111111112\n",
      "Variance: 1.0802469135802468\n"
     ]
    }
   ],
   "source": [
    "from scipy.stats import f\n",
    "\n",
    "def mean_variance_f_distribution(df_num, df_denom):\n",
    "    mean = df_denom / (df_denom - 2)\n",
    "    variance = (2 * (df_denom ** 2) * (df_num + df_denom - 2)) / (df_num * (df_denom - 2) ** 2 * (df_denom - 4))\n",
    "    return mean, variance\n",
    "\n",
    "# Example usage:\n",
    "df_num = 3\n",
    "df_denom = 20\n",
    "result = mean_variance_f_distribution(df_num, df_denom)\n",
    "print(\"Mean:\", result[0])\n",
    "print(\"Variance:\", result[1])\n"
   ]
  },
  {
   "cell_type": "markdown",
   "id": "e0680363",
   "metadata": {},
   "source": [
    "### Q7. A random sample of 10 measurements is taken from a normal population with unknown variance. The sample variance is found to be 25. Another random sample of 15 measurements is taken from another normal population with unknown variance, and the sample variance is found to be 20. Conduct an F-test at the 10% \n"
   ]
  },
  {
   "cell_type": "code",
   "execution_count": 8,
   "id": "384fd02a",
   "metadata": {},
   "outputs": [
    {
     "name": "stdout",
     "output_type": "stream",
     "text": [
      "F-value: 1.25\n",
      "Degrees of Freedom: 9 14\n",
      "P-value: 0.6832194382585954\n",
      "Reject Null Hypothesis: False\n"
     ]
    }
   ],
   "source": [
    "from scipy.stats import f\n",
    "\n",
    "def f_test_unknown_variances(sample1_variance, sample2_variance, sample1_size, sample2_size, alpha):\n",
    "    f_value = sample1_variance / sample2_variance\n",
    "    df1 = sample1_size - 1\n",
    "    df2 = sample2_size - 1\n",
    "    p_value = 2 * min(f.cdf(f_value, df1, df2), 1 - f.cdf(f_value, df1, df2))\n",
    "\n",
    "    return f_value, df1, df2, p_value, p_value < alpha\n",
    "\n",
    "# Example usage:\n",
    "sample1_variance = 25\n",
    "sample2_variance = 20\n",
    "sample1_size = 10\n",
    "sample2_size = 15\n",
    "alpha = 0.1\n",
    "result = f_test_unknown_variances(sample1_variance, sample2_variance, sample1_size, sample2_size, alpha)\n",
    "print(\"F-value:\", result[0])\n",
    "print(\"Degrees of Freedom:\", result[1], result[2])\n",
    "print(\"P-value:\", result[3])\n",
    "print(\"Reject Null Hypothesis:\", result[4])\n"
   ]
  },
  {
   "cell_type": "markdown",
   "id": "fa23d5a9",
   "metadata": {},
   "source": [
    "\n",
    "### Q8. The following data represent the waiting times in minutes at two different restaurants on a Saturday night: Restaurant A: 24, 25, 28, 23, 22, 20, 27; Restaurant B: 31, 33, 35, 30, 32, 36. Conduct an F-test at the 5% significance level to determine if the variances are significantly different."
   ]
  },
  {
   "cell_type": "code",
   "execution_count": 9,
   "id": "fdcc5959",
   "metadata": {},
   "outputs": [
    {
     "name": "stdout",
     "output_type": "stream",
     "text": [
      "F-value: 1.4551907719609583\n",
      "Degrees of Freedom: 6 5\n",
      "P-value: 0.6974815747937484\n",
      "Reject Null Hypothesis: False\n"
     ]
    }
   ],
   "source": [
    "from scipy.stats import f\n",
    "\n",
    "def f_test_waiting_times(waiting_times_A, waiting_times_B, alpha):\n",
    "    variance_A = np.var(waiting_times_A, ddof=1)\n",
    "    variance_B = np.var(waiting_times_B, ddof=1)\n",
    "\n",
    "    f_value = variance_A / variance_B\n",
    "    df1 = len(waiting_times_A) - 1\n",
    "    df2 = len(waiting_times_B) - 1\n",
    "    p_value = 2 * min(f.cdf(f_value, df1, df2), 1 - f.cdf(f_value, df1, df2))\n",
    "\n",
    "    return f_value, df1, df2, p_value, p_value < alpha\n",
    "\n",
    "# Example usage:\n",
    "waiting_times_A = [24, 25, 28, 23, 22, 20, 27]\n",
    "waiting_times_B = [31, 33, 35, 30, 32, 36]\n",
    "alpha = 0.05\n",
    "result = f_test_waiting_times(waiting_times_A, waiting_times_B, alpha)\n",
    "print(\"F-value:\", result[0])\n",
    "print(\"Degrees of Freedom:\", result[1], result[2])\n",
    "print(\"P-value:\", result[3])\n",
    "print(\"Reject Null Hypothesis:\", result[4])\n"
   ]
  },
  {
   "cell_type": "markdown",
   "id": "64ea4a38",
   "metadata": {},
   "source": [
    "### Q9. The following data represent the test scores of two groups of students: Group A: 80, 85, 90, 92, 87, 83; Group B: 75, 78, 82, 79, 81, 84. Conduct an F-test at the 1% significance level to determine if the variances are significantly different."
   ]
  },
  {
   "cell_type": "code",
   "execution_count": 10,
   "id": "d75006e9",
   "metadata": {},
   "outputs": [
    {
     "name": "stdout",
     "output_type": "stream",
     "text": [
      "F-value: 1.9442622950819677\n",
      "Degrees of Freedom: 5 5\n",
      "P-value: 0.4831043549070688\n",
      "Reject Null Hypothesis: False\n"
     ]
    }
   ],
   "source": [
    "from scipy.stats import f\n",
    "\n",
    "def f_test_test_scores(scores_group_A, scores_group_B, alpha):\n",
    "    variance_A = np.var(scores_group_A, ddof=1)\n",
    "    variance_B = np.var(scores_group_B, ddof=1)\n",
    "\n",
    "    f_value = variance_A / variance_B\n",
    "    df1 = len(scores_group_A) - 1\n",
    "    df2 = len(scores_group_B) - 1\n",
    "    p_value = 2 * min(f.cdf(f_value, df1, df2), 1 - f.cdf(f_value, df1, df2))\n",
    "\n",
    "    return f_value, df1, df2, p_value, p_value < alpha\n",
    "\n",
    "# Example usage:\n",
    "scores_group_A = [80, 85, 90, 92, 87, 83]\n",
    "scores_group_B = [75, 78, 82, 79, 81, 84]\n",
    "alpha = 0.01\n",
    "result = f_test_test_scores(scores_group_A, scores_group_B, alpha)\n",
    "print(\"F-value:\", result[0])\n",
    "print(\"Degrees of Freedom:\", result[1], result[2])\n",
    "print(\"P-value:\", result[3])\n",
    "print(\"Reject Null Hypothesis:\", result[4])\n"
   ]
  },
  {
   "cell_type": "code",
   "execution_count": null,
   "id": "4573f080",
   "metadata": {},
   "outputs": [],
   "source": []
  }
 ],
 "metadata": {
  "kernelspec": {
   "display_name": "Python 3 (ipykernel)",
   "language": "python",
   "name": "python3"
  },
  "language_info": {
   "codemirror_mode": {
    "name": "ipython",
    "version": 3
   },
   "file_extension": ".py",
   "mimetype": "text/x-python",
   "name": "python",
   "nbconvert_exporter": "python",
   "pygments_lexer": "ipython3",
   "version": "3.9.7"
  }
 },
 "nbformat": 4,
 "nbformat_minor": 5
}
