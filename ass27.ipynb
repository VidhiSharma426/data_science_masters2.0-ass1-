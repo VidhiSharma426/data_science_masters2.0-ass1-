{
 "cells": [
  {
   "cell_type": "markdown",
   "id": "38a6f95b",
   "metadata": {},
   "source": [
    "Q1. What are the three measures of central tendency?"
   ]
  },
  {
   "cell_type": "markdown",
   "id": "762f6df5",
   "metadata": {},
   "source": [
    "The three measures of central tendency are:\n",
    "\n",
    "1. **Mean:** The mean, often referred to as the average, is calculated by adding up all the values in a data set and then dividing the sum by the number of values. It is sensitive to extreme values (outliers) in the data.\n",
    "\n",
    "2. **Median:** The median is the middle value of a data set when it is ordered from least to greatest. If there is an even number of observations, the median is the average of the two middle values. The median is less sensitive to extreme values compared to the mean.\n",
    "\n",
    "3. **Mode:** The mode is the value that appears most frequently in a data set. A data set may have no mode, one mode (unimodal), or more than one mode (multimodal). Unlike the mean and median, the mode is not necessarily unique, and a data set may have multiple modes or none at all."
   ]
  },
  {
   "cell_type": "markdown",
   "id": "353f4afc",
   "metadata": {},
   "source": [
    "Q2. What is the difference between the mean, median, and mode? How are they used to measure the\n",
    "central tendency of a dataset?"
   ]
  },
  {
   "cell_type": "markdown",
   "id": "a62c8328",
   "metadata": {},
   "source": [
    "The mean, median, and mode are measures of central tendency that describe the center or typical value of a dataset. Here are the key differences between them and how they are used:\n",
    "\n",
    "1. **Mean:**\n",
    "   - Calculation: The mean is calculated by adding up all the values in a dataset and then dividing the sum by the number of values.\n",
    "   - Sensitivity to Outliers: The mean is sensitive to extreme values (outliers) because it takes into account the magnitude of each value.\n",
    "   - Use: It is often used when the data is symmetrically distributed and not highly skewed. However, it may not be the best measure when there are outliers that significantly affect the average.\n",
    "\n",
    "2. **Median:**\n",
    "   - Calculation: The median is the middle value of a dataset when it is ordered from least to greatest. If there is an even number of observations, the median is the average of the two middle values.\n",
    "   - Insensitivity to Outliers: The median is less sensitive to extreme values compared to the mean because it depends only on the order of values, not their magnitudes.\n",
    "   - Use: It is particularly useful when the dataset has outliers or is skewed, as it provides a more robust measure of central tendency.\n",
    "\n",
    "3. **Mode:**\n",
    "   - Calculation: The mode is the value that appears most frequently in a dataset.\n",
    "   - Multimodal Distributions: A dataset can be unimodal (one mode), bimodal (two modes), or multimodal (more than two modes), or it may have no mode at all.\n",
    "   - Use: The mode is useful for categorical data and can be informative in describing the most common category or value in a dataset. However, it may not be appropriate for datasets with continuous variables.\n",
    "\n"
   ]
  },
  {
   "cell_type": "markdown",
   "id": "bc30af08",
   "metadata": {},
   "source": [
    "Q3. Measure the three measures of central tendency for the given height data:\n",
    "[178,177,176,177,178.2,178,175,179,180,175,178.9,176.2,177,172.5,178,176.5]"
   ]
  },
  {
   "cell_type": "code",
   "execution_count": 8,
   "id": "27663bd6",
   "metadata": {},
   "outputs": [
    {
     "name": "stdout",
     "output_type": "stream",
     "text": [
      "178\n",
      "177.01875\n",
      "177.0\n"
     ]
    }
   ],
   "source": [
    "from statistics import mean, median, mode,stdev\n",
    "arr = [178,177,176,177,178.2,178,175,179,180,175,178.9,176.2,177,172.5,178,176.5]\n",
    "print(mode(arr))\n",
    "print(mean(arr))\n",
    "print(median(arr))"
   ]
  },
  {
   "cell_type": "markdown",
   "id": "e35ebcb1",
   "metadata": {},
   "source": [
    "Q4. Find the standard deviation for the given data:\n",
    "[178,177,176,177,178.2,178,175,179,180,175,178.9,176.2,177,172.5,178,176.5]"
   ]
  },
  {
   "cell_type": "code",
   "execution_count": 9,
   "id": "ed24896a",
   "metadata": {},
   "outputs": [
    {
     "data": {
      "text/plain": [
       "1.8472389305844188"
      ]
     },
     "execution_count": 9,
     "metadata": {},
     "output_type": "execute_result"
    }
   ],
   "source": [
    "arr1 =  [178,177,176,177,178.2,178,175,179,180,175,178.9,176.2,177,172.5,178,176.5]\n",
    "stdev(arr)"
   ]
  },
  {
   "cell_type": "markdown",
   "id": "081c971f",
   "metadata": {},
   "source": [
    "Q5. How are measures of dispersion such as range, variance, and standard deviation used to describe\n",
    "the spread of a dataset? Provide an example."
   ]
  },
  {
   "cell_type": "markdown",
   "id": "e9722dea",
   "metadata": {},
   "source": [
    "Measures of dispersion, such as range, variance, and standard deviation, are used to describe how spread out or dispersed the values in a dataset are. They provide information about the variability or consistency of the data points. Here's how each measure is used:\n",
    "\n",
    "1. **Range:**\n",
    "   - **Calculation:** Range is the difference between the maximum and minimum values in a dataset.\n",
    "   - **Use:** It gives a quick and simple indication of how spread out the data is. However, it can be sensitive to extreme values.\n",
    "\n",
    "2. **Variance:**\n",
    "   - **Calculation:** Variance is the average of the squared differences from the mean. It quantifies the average distance of each data point from the mean.\n",
    "   - **Use:** Variance provides a more detailed measure of the spread, emphasizing the magnitude of deviations. However, because it involves squared differences, its units are not the same as the original data.\n",
    "\n",
    "3. **Standard Deviation:**\n",
    "   - **Calculation:** Standard deviation is the square root of the variance. It is in the same units as the original data and provides a more interpretable measure of spread.\n",
    "   - **Use:** Like variance, standard deviation quantifies the average distance of each data point from the mean. It is widely used due to its ease of interpretation and is more sensitive to changes in the data compared to the range.\n",
    "\n",
    "**Example:**\n",
    "Consider two datasets:\n",
    "\n",
    "- Dataset A: [5, 10, 15, 20, 25]\n",
    "- Dataset B: [5, 5, 15, 25, 25]\n",
    "\n",
    "1. **Range:**\n",
    "   - Range of Dataset A: \\(25 - 5 = 20\\)\n",
    "   - Range of Dataset B: \\(25 - 5 = 20\\)\n",
    "\n",
    "   Both datasets have the same range, but the distribution of values is different.\n",
    "\n",
    "2. **Variance and Standard Deviation:**\n",
    "   - Variance and standard deviation for Dataset A: \n",
    "      \\[ \\text{Variance} = 50, \\quad \\text{Standard Deviation} \\approx 7.07 \\]\n",
    "   - Variance and standard deviation for Dataset B: \n",
    "      \\[ \\text{Variance} = 50, \\quad \\text{Standard Deviation} \\approx 7.07 \\]\n",
    "\n",
    "   Again, both datasets have the same variance and standard deviation, indicating the same level of dispersion. However, the patterns of dispersion are different in terms of individual data points.\n",
    "\n",
    "In summary, measures of dispersion help to quantify the spread of data and provide a more complete picture of the distribution of values in a dataset. The choice of which measure to use depends on the specific characteristics of the data and the goals of the analysis."
   ]
  },
  {
   "cell_type": "markdown",
   "id": "06149537",
   "metadata": {},
   "source": [
    "Q6. What is a Venn diagram?"
   ]
  },
  {
   "attachments": {
    "image.png": {
     "image/png": "[encoded data removed]"
    }
   },
   "cell_type": "markdown",
   "id": "91077945",
   "metadata": {},
   "source": [
    "A Venn diagram is a graphical representation that uses overlapping circles to illustrate the relationships between different sets or groups. Each circle typically represents a set, and the overlapping regions represent the elements that belong to more than one set. The size of the circles and the overlap can be adjusted to convey various relationships and proportions.\n",
    "\n",
    "Key features of a Venn diagram:\n",
    "\n",
    "Circles or Ellipses: Each circle or ellipse in a Venn diagram represents a set. The regions within each circle contain elements that belong exclusively to that set.\n",
    "\n",
    "Overlap: The overlapping areas between circles represent the elements that are common to both sets. The extent of the overlap indicates the degree of intersection between the sets.\n",
    "\n",
    "Universe: The entire space covered by the circles collectively represents the universal set or the complete set of elements under consideration.\n",
    "\n",
    "![image.png](attachment:image.png)"
   ]
  },
  {
   "cell_type": "markdown",
   "id": "72b1784f",
   "metadata": {},
   "source": [
    "Q7. For the two given sets A = (2,3,4,5,6,7) & B = (0,2,6,8,10). Find:\n",
    "(i) A B\n",
    "(ii) A ⋃ B"
   ]
  },
  {
   "cell_type": "code",
   "execution_count": 14,
   "id": "cae8ccad",
   "metadata": {},
   "outputs": [
    {
     "name": "stdout",
     "output_type": "stream",
     "text": [
      "{2, 6}\n",
      "{0, 2, 3, 4, 5, 6, 7, 8, 10}\n"
     ]
    }
   ],
   "source": [
    "A = {2,3,4,5,6,7}\n",
    "B = {0,2,6,8,10}\n",
    "print(A.intersection(B))\n",
    "print(A.union(B))"
   ]
  },
  {
   "cell_type": "markdown",
   "id": "30a34731",
   "metadata": {},
   "source": [
    "Q8. What do you understand about skewness in data?"
   ]
  },
  {
   "cell_type": "markdown",
   "id": "c2d0ec02",
   "metadata": {},
   "source": [
    "Skewness is a statistical measure that describes the asymmetry or lack of symmetry in a distribution of data. In a symmetrical distribution, the right and left sides are mirror images of each other. Skewness measures the extent and direction of skew (departure from horizontal symmetry) in a dataset.\n",
    "\n",
    "There are three types of skewness:\n",
    "\n",
    "Negative Skewness (Left Skewness): In a negatively skewed distribution, the left tail is longer or fatter than the right tail. The majority of the data points are concentrated on the right side, and the distribution has a tail that extends to the left.\n",
    "\n",
    "Zero Skewness: A distribution is considered symmetric (zero skewness) if the left and right sides are approximately equal in length and shape. The mean, median, and mode are typically close to each other in symmetric distributions.\n",
    "\n",
    "Positive Skewness (Right Skewness): In a positively skewed distribution, the right tail is longer or fatter than the left tail. The majority of the data points are concentrated on the left side, and the distribution has a tail that extends to the right.\n",
    "    \n",
    "    If skewness is less than -1 or greater than 1, the distribution is highly skewed.\n",
    "If skewness is between -1 and -0.5 or between 0.5 and 1, the distribution is moderately skewed.\n",
    "If skewness is between -0.5 and 0.5, the distribution is approximately symmetric."
   ]
  },
  {
   "cell_type": "markdown",
   "id": "0da09f37",
   "metadata": {},
   "source": [
    "Q9. If a data is right skewed then what will be the position of median with respect to mean?"
   ]
  },
  {
   "cell_type": "markdown",
   "id": "209e2eb2",
   "metadata": {},
   "source": [
    "Mean > Median:\n",
    "The mean is typically greater than the median.\n",
    "The presence of higher values in the right tail pulls the mean in that direction, making it higher than the median."
   ]
  },
  {
   "cell_type": "markdown",
   "id": "1a569eaa",
   "metadata": {},
   "source": [
    "Q10. Explain the difference between covariance and correlation. How are these measures used in\n",
    "statistical analysis?"
   ]
  },
  {
   "cell_type": "markdown",
   "id": "5fc3d6c5",
   "metadata": {},
   "source": [
    "Covariance:\n",
    "\n",
    "Covariance is a measure of how much two random variables vary together. It indicates the direction of the linear relationship between two variables. The covariance between two variables \n",
    "oints.\n",
    "\n",
    "Correlation:\n",
    "\n",
    "Correlation is a standardized measure that describes the strength and direction of a linear relationship between two variables. Unlike covariance, correlation is unitless and ranges between -1 and 1. A correlation of 1 indicates a perfect positive linear relationship, -1 indicates a perfect negative linear relationship, and 0 indicates no linear relationship. The correlation coefficient \n",
    "\n",
    "\n",
    "Differences:\n",
    "\n",
    "Scale:\n",
    "\n",
    "Covariance is not standardized and its value depends on the units of the variables.\n",
    "Correlation is standardized, and its value is independent of the units of the variables.\n",
    "Interpretation:\n",
    "\n",
    "Covariance can take any value, positive, negative, or zero. The magnitude indicates the strength of the relationship, but the sign doesn't have a clear interpretation.\n",
    "Correlation has a clear interpretation: \n",
    "r=1 indicates a perfect positive linear relationship, \n",
    "\n",
    "r=−1 indicates a perfect negative linear relationship, and \n",
    "\n",
    "r=0 indicates no linear relationship."
   ]
  },
  {
   "cell_type": "markdown",
   "id": "518052bc",
   "metadata": {},
   "source": [
    "Q11. What is the formula for calculating the sample mean? Provide an example calculation for a\n",
    "dataset."
   ]
  },
  {
   "cell_type": "markdown",
   "id": "b48512d9",
   "metadata": {},
   "source": [
    "The sample mean, denoted by \\(\\bar{X}\\), is the average of a set of observations in a sample. The formula for calculating the sample mean is as follows:\n",
    "\n",
    "X\n",
    "ˉ\n",
    " = \n",
    "n\n",
    "∑ \n",
    "i=1\n",
    "n\n",
    "​\n",
    " X \n",
    "i\n",
    "​\n",
    " \n",
    "​\n",
    "\n",
    "where:\n",
    "- \\(\\bar{X}\\) is the sample mean,\n",
    "- \\(X_i\\) is the value of the ith observation,\n",
    "- \\(\\sum\\) denotes the sum of the values,\n",
    "- \\(n\\) is the number of observations in the sample.\n",
    "\n",
    "Let's go through an example calculation:\n",
    "\n",
    "Suppose we have a dataset: \\([12, 15, 18, 21, 24]\\)\n",
    "\n",
    "1. **Add up all the values:**\n",
    "   \\[ 12 + 15 + 18 + 21 + 24 = 90 \\]\n",
    "\n",
    "2. **Count the number of observations (\\(n\\)):**\n",
    "   \\[ n = 5 \\]\n",
    "\n",
    "3. **Calculate the sample mean:**\n",
    "   \\[ \\bar{X} = \\frac{90}{5} = 18 \\]\n",
    "\n",
    "So, the sample mean for this dataset is 18. The sample mean represents the central tendency of the data and is often used as a representative value for the entire sample."
   ]
  },
  {
   "cell_type": "markdown",
   "id": "194a98ed",
   "metadata": {},
   "source": [
    "Q12. For a normal distribution data what is the relationship between its measure of central tendency?"
   ]
  },
  {
   "cell_type": "markdown",
   "id": "e7436ef8",
   "metadata": {},
   "source": [
    "mean = median = mode"
   ]
  },
  {
   "cell_type": "markdown",
   "id": "cd5c3810",
   "metadata": {},
   "source": [
    "Q13. How is covariance different from correlation?"
   ]
  },
  {
   "cell_type": "markdown",
   "id": "38efe486",
   "metadata": {},
   "source": [
    "already done!!!!!!"
   ]
  },
  {
   "cell_type": "markdown",
   "id": "94f5ea6c",
   "metadata": {},
   "source": [
    "Q14. How do outliers affect measures of central tendency and dispersion? Provide an example."
   ]
  },
  {
   "cell_type": "markdown",
   "id": "434f5d33",
   "metadata": {},
   "source": [
    "Outliers can significantly influence measures of central tendency and dispersion in a dataset. Central tendency measures, such as the mean, are particularly sensitive to outliers, while measures of dispersion, like the range, variance, and standard deviation, can be greatly influenced by extreme values. Here's how outliers affect these measures:\n",
    "\n",
    "**1. Mean:**\n",
    "   - **Effect:** Outliers can heavily skew the mean. Since the mean is the sum of all values divided by the number of values, a single extreme value can have a substantial impact on the calculated mean.\n",
    "   - **Example:** Consider the dataset: \\([10, 12, 15, 18, 22, 100]\\). The mean without the outlier is \\(15.5\\), but with the outlier, it becomes \\(29.5\\).\n",
    "\n",
    "**2. Median:**\n",
    "   - **Effect:** The median is less sensitive to outliers than the mean. It is the middle value when the data is ordered, so extreme values do not affect it as much.\n",
    "   - **Example:** Using the same dataset, the median without the outlier is \\(16.5\\), and with the outlier, it remains \\(16.5\\).\n",
    "\n",
    "**3. Range:**\n",
    "   - **Effect:** Outliers can substantially affect the range, as it is the difference between the maximum and minimum values. A single extreme value can widen the range.\n",
    "   - **Example:** In the dataset \\([10, 12, 15, 18, 22, 100]\\), the range without the outlier is \\(90\\), but with the outlier, it becomes \\(90\\) as well.\n",
    "\n",
    "**4. Variance and Standard Deviation:**\n",
    "   - **Effect:** Outliers increase the spread of data and, consequently, the variance and standard deviation. Squaring the differences from the mean (used in variance calculation) amplifies the impact of extreme values.\n",
    "   - **Example:** In the dataset \\([10, 12, 15, 18, 22, 100]\\), the standard deviation without the outlier is \\(30.47\\), but with the outlier, it becomes \\(37.83\\).\n",
    "\n",
    "In summary, outliers can distort measures of central tendency, pulling the mean towards extreme values, and can also inflate measures of dispersion, exaggerating the spread of data. It's important to be aware of the presence of outliers and consider their impact when interpreting these statistical measures. Depending on the context and goals of the analysis, it may be necessary to address or handle outliers appropriately."
   ]
  },
  {
   "cell_type": "code",
   "execution_count": null,
   "id": "7bd47e4d",
   "metadata": {},
   "outputs": [],
   "source": []
  }
 ],
 "metadata": {
  "kernelspec": {
   "display_name": "Python 3 (ipykernel)",
   "language": "python",
   "name": "python3"
  },
  "language_info": {
   "codemirror_mode": {
    "name": "ipython",
    "version": 3
   },
   "file_extension": ".py",
   "mimetype": "text/x-python",
   "name": "python",
   "nbconvert_exporter": "python",
   "pygments_lexer": "ipython3",
   "version": "3.9.7"
  }
 },
 "nbformat": 4,
 "nbformat_minor": 5
}
