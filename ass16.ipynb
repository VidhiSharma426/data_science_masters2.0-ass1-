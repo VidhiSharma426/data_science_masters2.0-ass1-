{
 "cells": [
  {
   "cell_type": "markdown",
   "id": "b7f82014",
   "metadata": {},
   "source": [
    "Q1. Explain GET and POST methods."
   ]
  },
  {
   "cell_type": "markdown",
   "id": "65b0664a",
   "metadata": {},
   "source": [
    "GET Method:\n",
    "Purpose: The GET method is used to request data from a specified resource.\n",
    "\n",
    "Data in URL: Parameters are appended to the URL in the form of a query string.\n",
    "\n",
    "Visibility: Data is visible in the URL, which means it's not suitable for sensitive information.\n",
    "\n",
    "Caching: Responses can be cached by browsers, which can improve performance for subsequent requests.\n",
    "\n",
    "Idempotent: GET requests are idempotent, meaning making the same request multiple times will produce the same result.\n",
    "\n",
    "Usage: Commonly used for fetching data from the server, such as retrieving a web page or an image.\n",
    "\n",
    "from flask import Flask\n",
    "\n",
    "app = Flask(__name__)\n",
    "\n",
    "@app.route('/hello', methods=['GET'])\n",
    "def hello():\n",
    "    return 'Hello, World!'\n",
    "\n",
    "if __name__ == '__main__':\n",
    "    app.run(debug=True)\n",
    "\n",
    "\n",
    "POST Method:\n",
    "Purpose: The POST method is used to submit data to be processed to a specified resource.\n",
    "\n",
    "Data in Body: Parameters are sent in the body of the HTTP request. This method can handle large amounts of data, and the data is not visible in the URL.\n",
    "\n",
    "Visibility: Data is not visible in the URL, making it suitable for sensitive information.\n",
    "\n",
    "Caching: Responses are not cached by default, which ensures that each request is processed independently.\n",
    "\n",
    "Idempotent: POST requests are not idempotent. Making the same request multiple times can have different effects, especially if it results in data creation or modification on the server.\n",
    "\n",
    "Usage: Commonly used for submitting form data, uploading files, or performing actions that modify data on the server.\n",
    "\n",
    "from flask import Flask, request\n",
    "\n",
    "app = Flask(__name__)\n",
    "\n",
    "@app.route('/submit', methods=['POST'])\n",
    "def submit():\n",
    "    data = request.form.get('data')\n",
    "    return f'Received: {data}'\n",
    "\n",
    "if __name__ == '__main__':\n",
    "    app.run(debug=True)\n"
   ]
  },
  {
   "cell_type": "markdown",
   "id": "e669aedb",
   "metadata": {},
   "source": [
    "Q2. Why is request used in Flask?"
   ]
  },
  {
   "cell_type": "markdown",
   "id": "1fa37d14",
   "metadata": {},
   "source": [
    "In Flask, the request object is used to access incoming data from the client, whether it's submitted through a form, included in the URL, or sent as part of an API request. The request object allows you to retrieve form data, query parameters, files, and other information sent by the client's browser or application. It provides a convenient way to interact with this data within your Flask application."
   ]
  },
  {
   "cell_type": "code",
   "execution_count": 1,
   "id": "194d41ff",
   "metadata": {},
   "outputs": [],
   "source": [
    "# from flask import request\n",
    "\n",
    "# @app.route('/login', methods=['POST'])\n",
    "# def login():\n",
    "#     username = request.form['username']\n",
    "#     # Do something with the username\n",
    "#     return 'Login successful!'\n"
   ]
  },
  {
   "cell_type": "markdown",
   "id": "c55dae78",
   "metadata": {},
   "source": [
    "Q3. Why is redirect() used in Flask?"
   ]
  },
  {
   "cell_type": "markdown",
   "id": "81f83cd0",
   "metadata": {},
   "source": [
    "In Flask, the redirect() function is used to redirect the user to a different route or URL within the application. It is particularly useful after processing a form submission or handling a particular request, where you want to redirect the user to another page, such as a thank you page or a dashboard."
   ]
  },
  {
   "cell_type": "code",
   "execution_count": 2,
   "id": "7dbaf000",
   "metadata": {},
   "outputs": [],
   "source": [
    "# from flask import redirect, url_for\n",
    "\n",
    "# @app.route('/login', methods=['POST'])\n",
    "# def login():\n",
    "#     # Process login logic\n",
    "#     if login_successful:\n",
    "#         return redirect(url_for('profile'))\n",
    "#     else:\n",
    "#         return 'Login failed. Please try again.'\n",
    "\n",
    "# @app.route('/profile')\n",
    "# def profile():\n",
    "#     # User's profile page\n",
    "#     return 'Welcome to your profile!'\n"
   ]
  },
  {
   "cell_type": "markdown",
   "id": "0d3c71b1",
   "metadata": {},
   "source": [
    "Q4. What are templates in Flask? Why is the render_template() function used?"
   ]
  },
  {
   "cell_type": "markdown",
   "id": "de1d10da",
   "metadata": {},
   "source": [
    "In Flask, templates are used to separate the presentation logic from the business logic of a web application. Templates are essentially HTML files with placeholders for dynamic content. These placeholders are replaced with actual data when the template is rendered and sent to the client's browser. Using templates allows for cleaner, more maintainable code by keeping the HTML markup separate from the Python code.\n",
    "\n",
    "The render_template() function in Flask is used to render HTML templates and pass dynamic data to them. It takes the name of the template file as its argument and can also accept additional keyword arguments representing data that should be passed to the template."
   ]
  },
  {
   "cell_type": "code",
   "execution_count": 3,
   "id": "c7136a40",
   "metadata": {},
   "outputs": [],
   "source": [
    "# from flask import Flask, render_template\n",
    "\n",
    "# app = Flask(__name__)\n",
    "\n",
    "# @app.route('/')\n",
    "# def index():\n",
    "#     user = \"John\"\n",
    "#     items = [\"Apples\", \"Bananas\", \"Cherries\"]\n",
    "#     return render_template('index.html', user=user, items=items)\n"
   ]
  },
  {
   "cell_type": "markdown",
   "id": "70cc2d0e",
   "metadata": {},
   "source": [
    "Q5. Create a simple API. Use Postman to test it. Attach the screenshot of the output in the Jupyter Notebook."
   ]
  },
  {
   "cell_type": "code",
   "execution_count": null,
   "id": "2e428382",
   "metadata": {},
   "outputs": [
    {
     "name": "stdout",
     "output_type": "stream",
     "text": [
      " * Serving Flask app \"__main__\" (lazy loading)\n",
      " * Environment: production\n",
      "\u001b[31m   WARNING: This is a development server. Do not use it in a production deployment.\u001b[0m\n",
      "\u001b[2m   Use a production WSGI server instead.\u001b[0m\n",
      " * Debug mode: off\n"
     ]
    },
    {
     "name": "stderr",
     "output_type": "stream",
     "text": [
      " * Running on all addresses.\n",
      "   WARNING: This is a development server. Do not use it in a production deployment.\n",
      " * Running on http://192.168.29.154:5000/ (Press CTRL+C to quit)\n"
     ]
    }
   ],
   "source": [
    "\n",
    "from flask import Flask, jsonify\n",
    "\n",
    "app = Flask(__name__)\n",
    "\n",
    "@app.route('/api', methods=['GET'])\n",
    "def api():\n",
    "    data = {\n",
    "        'message': 'Hello, this is a simple API!',\n",
    "        'status': 'success'\n",
    "    }\n",
    "    return jsonify(data)\n",
    "\n",
    "if __name__ == '__main__':\n",
    "    app.run(host='0.0.0.0')\n",
    "\n"
   ]
  },
  {
   "attachments": {
    "image.png": {
     "image/png": "[encoded data removed]"
    }
   },
   "cell_type": "markdown",
   "id": "eef47204",
   "metadata": {},
   "source": [
    "![image.png](attachment:image.png)\n"
   ]
  },
  {
   "cell_type": "code",
   "execution_count": null,
   "id": "c4551a05",
   "metadata": {},
   "outputs": [],
   "source": []
  }
 ],
 "metadata": {
  "kernelspec": {
   "display_name": "Python 3 (ipykernel)",
   "language": "python",
   "name": "python3"
  },
  "language_info": {
   "codemirror_mode": {
    "name": "ipython",
    "version": 3
   },
   "file_extension": ".py",
   "mimetype": "text/x-python",
   "name": "python",
   "nbconvert_exporter": "python",
   "pygments_lexer": "ipython3",
   "version": "3.9.7"
  }
 },
 "nbformat": 4,
 "nbformat_minor": 5
}
