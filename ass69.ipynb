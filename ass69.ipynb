{
 "cells": [
  {
   "cell_type": "markdown",
   "id": "4fd63b0a",
   "metadata": {},
   "source": [
    "### Q1. Write a Python code to implement the KNN classifier algorithm on load_iris dataset in\n",
    "### sklearn.datasets.\n",
    "\n",
    "\n",
    "\n",
    "\n"
   ]
  },
  {
   "cell_type": "code",
   "execution_count": 1,
   "id": "c594d2ba",
   "metadata": {},
   "outputs": [
    {
     "name": "stdout",
     "output_type": "stream",
     "text": [
      "Accuracy: 1.0\n"
     ]
    }
   ],
   "source": [
    "# Import necessary libraries\n",
    "from sklearn.datasets import load_iris\n",
    "from sklearn.model_selection import train_test_split\n",
    "from sklearn.neighbors import KNeighborsClassifier\n",
    "from sklearn.metrics import accuracy_score\n",
    "\n",
    "# Load the Iris dataset\n",
    "iris = load_iris()\n",
    "X = iris.data  # Features\n",
    "y = iris.target  # Target variable\n",
    "\n",
    "# Split the dataset into training and testing sets\n",
    "X_train, X_test, y_train, y_test = train_test_split(X, y, test_size=0.2, random_state=42)\n",
    "\n",
    "# Initialize the KNN classifier\n",
    "k = 3  # Number of neighbors\n",
    "knn_classifier = KNeighborsClassifier(n_neighbors=k)\n",
    "\n",
    "# Train the KNN classifier\n",
    "knn_classifier.fit(X_train, y_train)\n",
    "\n",
    "# Make predictions on the testing set\n",
    "y_pred = knn_classifier.predict(X_test)\n",
    "\n",
    "# Calculate accuracy\n",
    "accuracy = accuracy_score(y_test, y_pred)\n",
    "print(\"Accuracy:\", accuracy)\n"
   ]
  },
  {
   "cell_type": "markdown",
   "id": "93b09ce3",
   "metadata": {},
   "source": [
    "### Q2. Write a Python code to implement the KNN regressor algorithm on load_boston dataset in\n",
    "### sklearn.datasets."
   ]
  },
  {
   "cell_type": "code",
   "execution_count": null,
   "id": "8fab8a63",
   "metadata": {},
   "outputs": [],
   "source": [
    "\n",
    "from sklearn.datasets import load_boston\n",
    "from sklearn.model_selection import train_test_split\n",
    "from sklearn.neighbors import KNeighborsRegressor\n",
    "from sklearn.metrics import mean_squared_error\n",
    "\n",
    "\n",
    "boston = load_boston()\n",
    "X = boston.data  # Features\n",
    "y = boston.target  # Target variable (housing prices)\n",
    "\n",
    "X_train, X_test, y_train, y_test = train_test_split(X, y, test_size=0.2, random_state=42)\n",
    "\n",
    "\n",
    "k = 3  # Number of neighbors\n",
    "knn_regressor = KNeighborsRegressor(n_neighbors=k)\n",
    "\n",
    "knn_regressor.fit(X_train, y_train)\n",
    "\n",
    "y_pred = knn_regressor.predict(X_test)\n",
    "\n",
    "mse = mean_squared_error(y_test, y_pred)\n",
    "print(\"Mean Squared Error:\", mse)\n"
   ]
  },
  {
   "cell_type": "markdown",
   "id": "a8a90170",
   "metadata": {},
   "source": [
    "### Q3. Write a Python code snippet to find the optimal value of K for the KNN classifier algorithm using\n",
    "### cross-validation on load_iris dataset in sklearn.datasets."
   ]
  },
  {
   "cell_type": "code",
   "execution_count": 4,
   "id": "30ce15e8",
   "metadata": {},
   "outputs": [
    {
     "name": "stdout",
     "output_type": "stream",
     "text": [
      "Optimal value of k: 3\n"
     ]
    }
   ],
   "source": [
    "# Import necessary libraries\n",
    "from sklearn.datasets import load_iris\n",
    "from sklearn.model_selection import train_test_split, GridSearchCV\n",
    "from sklearn.neighbors import KNeighborsClassifier\n",
    "\n",
    "# Load the Iris dataset\n",
    "iris = load_iris()\n",
    "X = iris.data  # Features\n",
    "y = iris.target  # Target variable\n",
    "\n",
    "# Split the dataset into training and testing sets\n",
    "X_train, X_test, y_train, y_test = train_test_split(X, y, test_size=0.2, random_state=42)\n",
    "\n",
    "# Define range of k values to search\n",
    "param_grid = {'n_neighbors': range(1, 21)}  # Search k from 1 to 20\n",
    "\n",
    "# Initialize KNN classifier\n",
    "knn_classifier = KNeighborsClassifier()\n",
    "\n",
    "# Perform grid search with cross-validation\n",
    "grid_search = GridSearchCV(knn_classifier, param_grid, cv=5, scoring='accuracy')\n",
    "grid_search.fit(X_train, y_train)\n",
    "\n",
    "# Get the best value of k\n",
    "best_k = grid_search.best_params_['n_neighbors']\n",
    "\n",
    "print(\"Optimal value of k:\", best_k)\n"
   ]
  },
  {
   "cell_type": "markdown",
   "id": "e882dd14",
   "metadata": {},
   "source": [
    "### Q4. Implement the KNN regressor algorithm with feature scaling on load_boston dataset in\n",
    "### sklearn.datasets."
   ]
  },
  {
   "cell_type": "code",
   "execution_count": 6,
   "id": "56fb084c",
   "metadata": {},
   "outputs": [],
   "source": [
    "# Import necessary libraries\n",
    "from sklearn.datasets import load_boston\n",
    "from sklearn.model_selection import train_test_split\n",
    "from sklearn.preprocessing import StandardScaler\n",
    "from sklearn.neighbors import KNeighborsRegressor\n",
    "from sklearn.metrics import mean_squared_error\n",
    "\n",
    "# Load the Boston dataset\n",
    "boston = load_boston()\n",
    "X = boston.data  # Features\n",
    "y = boston.target  # Target variable (housing prices)\n",
    "\n",
    "# Split the dataset into training and testing sets\n",
    "X_train, X_test, y_train, y_test = train_test_split(X, y, test_size=0.2, random_state=42)\n",
    "\n",
    "# Scale the features\n",
    "scaler = StandardScaler()\n",
    "X_train_scaled = scaler.fit_transform(X_train)\n",
    "X_test_scaled = scaler.transform(X_test)\n",
    "\n",
    "# Initialize the KNN regressor\n",
    "k = 3  # Number of neighbors\n",
    "knn_regressor = KNeighborsRegressor(n_neighbors=k)\n",
    "\n",
    "# Train the KNN regressor\n",
    "knn_regressor.fit(X_train_scaled, y_train)\n",
    "\n",
    "# Make predictions on the testing set\n",
    "y_pred = knn_regressor.predict(X_test_scaled)\n",
    "\n",
    "# Calculate mean squared error\n",
    "mse = mean_squared_error(y_test, y_pred)\n",
    "print(\"Mean Squared Error:\", mse)\n"
   ]
  },
  {
   "cell_type": "markdown",
   "id": "f712ddb2",
   "metadata": {},
   "source": [
    "### Q5. Write a Python code snippet to implement the KNN classifier algorithm with weighted voting on\n",
    "### load_iris dataset in sklearn.datasets."
   ]
  },
  {
   "cell_type": "code",
   "execution_count": 7,
   "id": "48e99d07",
   "metadata": {},
   "outputs": [
    {
     "name": "stdout",
     "output_type": "stream",
     "text": [
      "Accuracy: 1.0\n"
     ]
    }
   ],
   "source": [
    "# Import necessary libraries\n",
    "from sklearn.datasets import load_iris\n",
    "from sklearn.model_selection import train_test_split\n",
    "from sklearn.neighbors import KNeighborsClassifier\n",
    "\n",
    "# Load the Iris dataset\n",
    "iris = load_iris()\n",
    "X = iris.data  # Features\n",
    "y = iris.target  # Target variable\n",
    "\n",
    "# Split the dataset into training and testing sets\n",
    "X_train, X_test, y_train, y_test = train_test_split(X, y, test_size=0.2, random_state=42)\n",
    "\n",
    "# Initialize the KNN classifier with weighted voting\n",
    "k = 3  # Number of neighbors\n",
    "weights = 'distance'  # Use distance-based weighting\n",
    "knn_classifier = KNeighborsClassifier(n_neighbors=k, weights=weights)\n",
    "\n",
    "# Train the KNN classifier\n",
    "knn_classifier.fit(X_train, y_train)\n",
    "\n",
    "# Make predictions on the testing set\n",
    "y_pred = knn_classifier.predict(X_test)\n",
    "\n",
    "# Calculate accuracy\n",
    "accuracy = knn_classifier.score(X_test, y_test)\n",
    "print(\"Accuracy:\", accuracy)\n"
   ]
  },
  {
   "cell_type": "markdown",
   "id": "82917e59",
   "metadata": {},
   "source": [
    "### Q6. Implement a function to standardise the features before applying KNN classifier.\n"
   ]
  },
  {
   "cell_type": "code",
   "execution_count": 8,
   "id": "ea81f1ac",
   "metadata": {},
   "outputs": [],
   "source": [
    "from sklearn.preprocessing import StandardScaler\n",
    "\n",
    "def standardize_features(X_train, X_test):\n",
    "  \n",
    "    # Initialize StandardScaler\n",
    "    scaler = StandardScaler()\n",
    "\n",
    "    # Fit on training data and transform training and testing data\n",
    "    X_train_scaled = scaler.fit_transform(X_train)\n",
    "    X_test_scaled = scaler.transform(X_test)\n",
    "\n",
    "    return X_train_scaled, X_test_scaled\n"
   ]
  },
  {
   "cell_type": "markdown",
   "id": "d7a415cc",
   "metadata": {},
   "source": [
    "### Q7. Write a Python function to calculate the euclidean distance between two points.\n"
   ]
  },
  {
   "cell_type": "code",
   "execution_count": 9,
   "id": "5aa4b1b1",
   "metadata": {},
   "outputs": [],
   "source": [
    "import numpy as np\n",
    "\n",
    "def euclidean_distance(point1, point2):\n",
    " \n",
    "    # Convert points to numpy arrays to ensure calculations work for any dimensionality\n",
    "    point1 = np.array(point1)\n",
    "    point2 = np.array(point2)\n",
    "\n",
    "    # Calculate Euclidean distance\n",
    "    distance = np.sqrt(np.sum((point1 - point2) ** 2))\n",
    "\n",
    "    return distance\n"
   ]
  },
  {
   "cell_type": "markdown",
   "id": "62f8c1b1",
   "metadata": {},
   "source": [
    "### Q8. Write a Python function to calculate the manhattan distance between two points."
   ]
  },
  {
   "cell_type": "code",
   "execution_count": 10,
   "id": "25a49061",
   "metadata": {},
   "outputs": [],
   "source": [
    "import numpy as np\n",
    "\n",
    "def manhattan_distance(point1, point2):\n",
    "\n",
    "    # Convert points to numpy arrays to ensure calculations work for any dimensionality\n",
    "    point1 = np.array(point1)\n",
    "    point2 = np.array(point2)\n",
    "\n",
    "    # Calculate Manhattan distance\n",
    "    distance = np.sum(np.abs(point1 - point2))\n",
    "\n",
    "    return distance\n"
   ]
  },
  {
   "cell_type": "code",
   "execution_count": null,
   "id": "acd63ddb",
   "metadata": {},
   "outputs": [],
   "source": []
  }
 ],
 "metadata": {
  "kernelspec": {
   "display_name": "Python 3 (ipykernel)",
   "language": "python",
   "name": "python3"
  },
  "language_info": {
   "codemirror_mode": {
    "name": "ipython",
    "version": 3
   },
   "file_extension": ".py",
   "mimetype": "text/x-python",
   "name": "python",
   "nbconvert_exporter": "python",
   "pygments_lexer": "ipython3",
   "version": "3.9.7"
  }
 },
 "nbformat": 4,
 "nbformat_minor": 5
}
